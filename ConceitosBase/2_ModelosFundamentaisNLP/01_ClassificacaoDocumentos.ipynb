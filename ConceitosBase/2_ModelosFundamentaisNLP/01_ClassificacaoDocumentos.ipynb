{
 "cells": [
  {
   "cell_type": "markdown",
   "id": "1450aa89-743f-4885-92a3-63fc2f50619c",
   "metadata": {},
   "source": [
    "## Classificação de documentos"
   ]
  },
  {
   "cell_type": "markdown",
   "id": "eb17e424-c2be-4bc2-bbbc-6e019913b0a1",
   "metadata": {},
   "source": [
    "Imagine trabalhar em uma empresa prestigiada de jornal ou revista com um vasto arquivo de documentos que remonta ao longo da história. Em meio a esse tesouro de informações, surge uma tarefa monumental: organizar esses documentos históricos em seções de tópicos relevantes. Essa curadoria estratégica não apenas aprimora a experiência do usuário, oferecendo conteúdo mais acessível, mas também traz uma nova perspectiva para insights inestimáveis do passado. No entanto, o volume e a abrangência dessa empreitada exigem uma solução sofisticada.\n",
    "\n",
    "A implementação de um sistema automatizado de aprendizado de máquina torna esse processo muito mais eficiente. Tal sistema, equipado com capacidades avançadas de processamento de linguagem natural e aprendizado de máquina, poderia examinar o vasto arquivo, categorizando os artigos em tópicos específicos com precisão notável. O resultado é uma experiência em que os leitores acessam um grande acervo de conhecimento alinhado aos seus interesses, enquanto a equipe editorial ganha agilidade na gestão de conteúdo.\n",
    "\n",
    "Este projeto tem como objeto classificar artigos de notícias para um mecanismo de busca de conteúdo. Para isso, é construir um modelo que categorize automaticamente os artigos em diferentes tópicos ou classes, permitindo que o mecanismo de busca entregue conteúdo relevante aos usuários de forma eficiente. Será utilizada a biblioteca torchtext, que simplifica o processo de criação de um conjunto de dados para análise de classificação de texto.\n",
    "\n",
    "Com o torchtext, temos a flexibilidade para acessar e pré-processar dados brutos de notícias de maneira simples. A biblioteca permite converter strings de texto em torch.Tensors, essenciais para o treinamento de modelos de aprendizado de máquina. Ao utilizar as funcionalidades práticas do torchtext, podemos configurar um pipeline de processamento de dados eficiente, que prepara seus dados textuais para a classificação.\n",
    "\n",
    "Além disso, o projeto também vai embaralhar e iterar efetivamente pelos dados processados usando o torch.utils.data.DataLoader. Esse DataLoader simplifica o manuseio dos dados, permitindo que você foque na construção e no treinamento do seu modelo de classificação de texto de forma eficaz."
   ]
  },
  {
   "cell_type": "markdown",
   "id": "acba2a97-72c7-4878-ab77-c7ea644169d8",
   "metadata": {},
   "source": [
    "### Objetivos\n",
    "\n",
    "- Trabalhar com conjuntos de dados e entender tokenizador, técnica de embedding bag e vocabulário.\n",
    "- Explorar embeddings no PyTorch e compreender índices de tokens.\n",
    "- Realizar classificação de texto usando data loader e aplicá-lo em um modelo de rede neural.\n",
    "- Treinar o modelo de classificação de texto em um conjunto de dados de notícias."
   ]
  },
  {
   "cell_type": "markdown",
   "id": "6eb36936-640c-4238-86c6-e07c125346cc",
   "metadata": {},
   "source": [
    "### Preparar setup - instalar bibliotecas"
   ]
  },
  {
   "cell_type": "code",
   "execution_count": 1,
   "id": "6d36f00b-4309-44e5-8a21-6830921220ff",
   "metadata": {},
   "outputs": [],
   "source": [
    "def warn(*args, **kwargs):\n",
    "    pass\n",
    "    \n",
    "import warnings\n",
    "warnings.warn = warn\n",
    "warnings.filterwarnings('ignore')\n",
    "\n",
    "import importlib.util\n",
    "import subprocess\n",
    "import sys\n",
    "\n",
    "def check_and_install(package, pip_name=None):\n",
    "    if pip_name is None:\n",
    "        pip_name = package\n",
    "    spec = importlib.util.find_spec(package)\n",
    "    if spec is None:\n",
    "        print(f\"{package} não está instalado. Instalando...\")\n",
    "        subprocess.check_call([sys.executable, \"-m\", \"pip\", \"install\", pip_name])\n",
    "    else:\n",
    "        print(f\"{package} já está instalado.\")"
   ]
  },
  {
   "cell_type": "code",
   "execution_count": 2,
   "id": "af87995c-82ac-4c39-8a10-93dd7797ab66",
   "metadata": {},
   "outputs": [
    {
     "name": "stdout",
     "output_type": "stream",
     "text": [
      "portalocker já está instalado.\n",
      "torchtext já está instalado.\n",
      "torchdata já está instalado.\n",
      "plotly não está instalado. Instalando...\n",
      "dash não está instalado. Instalando...\n"
     ]
    }
   ],
   "source": [
    "check_and_install('portalocker')\n",
    "check_and_install('torchtext')\n",
    "check_and_install('torchdata')\n",
    "check_and_install('plotly')\n",
    "check_and_install('dash')"
   ]
  },
  {
   "cell_type": "markdown",
   "id": "ade6ab37-8696-4b4d-bdd4-f22a12b8edea",
   "metadata": {},
   "source": [
    "### Importar bibliotecas"
   ]
  },
  {
   "cell_type": "code",
   "execution_count": 3,
   "id": "8366223f-6415-431b-873e-4f6c35c2271c",
   "metadata": {},
   "outputs": [],
   "source": [
    "from tqdm import tqdm\n",
    "import numpy as np\n",
    "import pandas as pd\n",
    "from itertools import accumulate\n",
    "import matplotlib.pyplot as plt\n",
    "from torchtext.data.utils import get_tokenizer\n",
    "\n",
    "import torch\n",
    "import torch.nn as nn\n",
    "\n",
    "from torch.utils.data import DataLoader\n",
    "import numpy as np\n",
    "from torchtext.datasets import AG_NEWS\n",
    "from IPython.display import Markdown as md\n",
    "from tqdm import tqdm\n",
    "\n",
    "from torchtext.vocab import build_vocab_from_iterator\n",
    "from torchtext.datasets import AG_NEWS\n",
    "from torch.utils.data.dataset import random_split\n",
    "from torchtext.data.functional import to_map_style_dataset\n",
    "from sklearn.manifold import TSNE\n",
    "import plotly.graph_objs as go\n",
    "\n",
    "from torchtext.data.utils import get_tokenizer"
   ]
  },
  {
   "cell_type": "markdown",
   "id": "cc32e7c2-a12b-4b46-b15c-c7017a47b797",
   "metadata": {},
   "source": [
    "### Definir funções auxiliares"
   ]
  },
  {
   "cell_type": "code",
   "execution_count": 4,
   "id": "92969476-6530-452b-a54d-44b57668fc7f",
   "metadata": {},
   "outputs": [],
   "source": [
    "def plot(COST,ACC):\n",
    "    fig, ax1 = plt.subplots()\n",
    "    color = 'tab:red'\n",
    "    ax1.plot(COST, color=color)\n",
    "    ax1.set_xlabel('epoch', color=color)\n",
    "    ax1.set_ylabel('total loss', color=color)\n",
    "    ax1.tick_params(axis='y', color=color)\n",
    "    \n",
    "    ax2 = ax1.twinx()  \n",
    "    color = 'tab:blue'\n",
    "    ax2.set_ylabel('accuracy', color=color)  # you already handled the x-label with ax1\n",
    "    ax2.plot(ACC, color=color)\n",
    "    ax2.tick_params(axis='y', color=color)\n",
    "    fig.tight_layout()  # otherwise the right y-label is slightly clipped\n",
    "    \n",
    "    plt.show()"
   ]
  },
  {
   "cell_type": "markdown",
   "id": "bf3b38c0-dc43-4d0f-a3a7-33009d6e314a",
   "metadata": {},
   "source": [
    "### Importar banco de dados"
   ]
  },
  {
   "cell_type": "code",
   "execution_count": 8,
   "id": "183c26f1-4658-41a2-a4e1-dff3a15c08ff",
   "metadata": {},
   "outputs": [],
   "source": [
    "train_iter = iter(AG_NEWS(split='train'))"
   ]
  },
  {
   "cell_type": "markdown",
   "id": "826a3862-f578-4ed3-976d-f4e59c683c85",
   "metadata": {},
   "source": [
    "O conjunto de dados AG_NEWS em torchtext não suporta indexação direta como uma lista ou tupla. Não é um conjunto de dados de acesso aleatório, mas sim um conjunto de dados iterável que precisa ser usado com um iterador. Essa abordagem é mais eficaz para dados de texto."
   ]
  },
  {
   "cell_type": "code",
   "execution_count": 9,
   "id": "21225a78-ca2e-46bc-a365-347ca4f5afb3",
   "metadata": {},
   "outputs": [
    {
     "name": "stdout",
     "output_type": "stream",
     "text": [
      "3 Wall St. Bears Claw Back Into the Black (Reuters) Reuters - Short-sellers, Wall Street's dwindling\\band of ultra-cynics, are seeing green again.\n"
     ]
    }
   ],
   "source": [
    "y, text = next((train_iter))\n",
    "print(y, text)"
   ]
  },
  {
   "cell_type": "markdown",
   "id": "10994f64-e671-4cce-a7c3-7659281aa498",
   "metadata": {},
   "source": [
    "#### Etiqueta da amostra"
   ]
  },
  {
   "cell_type": "code",
   "execution_count": 10,
   "id": "f84440ad-df48-42df-8a6d-bca9db07eabd",
   "metadata": {},
   "outputs": [
    {
     "data": {
      "text/plain": [
       "'Business'"
      ]
     },
     "execution_count": 10,
     "metadata": {},
     "output_type": "execute_result"
    }
   ],
   "source": [
    "ag_news_label = {1: \"World\", \n",
    "                 2: \"Sports\", \n",
    "                 3: \"Business\", \n",
    "                 4: \"Sci/Tec\"}\n",
    "ag_news_label[y]"
   ]
  },
  {
   "cell_type": "markdown",
   "id": "176a0525-ad30-4787-b240-a4a28a77f31b",
   "metadata": {},
   "source": [
    "Usar o dataset para encontrar todas as classes"
   ]
  },
  {
   "cell_type": "code",
   "execution_count": 11,
   "id": "35fd880d-8e64-46cf-a0c3-d6009e35c80b",
   "metadata": {},
   "outputs": [
    {
     "data": {
      "text/plain": [
       "4"
      ]
     },
     "execution_count": 11,
     "metadata": {},
     "output_type": "execute_result"
    }
   ],
   "source": [
    "num_class = len(set([label for (label, text) in train_iter ]))\n",
    "num_class "
   ]
  },
  {
   "cell_type": "markdown",
   "id": "9b625526-438d-4e47-9f36-077a35ddeca2",
   "metadata": {},
   "source": [
    "#### Criar os tokens"
   ]
  },
  {
   "cell_type": "code",
   "execution_count": 12,
   "id": "47bf8db4-9070-4704-b603-378e53db1787",
   "metadata": {},
   "outputs": [],
   "source": [
    "tokenizer = get_tokenizer('basic_english')"
   ]
  },
  {
   "cell_type": "code",
   "execution_count": 13,
   "id": "cbbb6178-615f-47cf-a67f-b8c50fc2a76c",
   "metadata": {},
   "outputs": [],
   "source": [
    "def yield_tokens(data_iter):\n",
    "    for _,text in data_iter:\n",
    "        yield tokenizer(text)"
   ]
  },
  {
   "cell_type": "code",
   "execution_count": 15,
   "id": "0fd43a38-be87-4038-9527-723a05d2282c",
   "metadata": {},
   "outputs": [],
   "source": [
    "vocab = build_vocab_from_iterator(yield_tokens(train_iter),\n",
    "                                  specials=[\"<unk>\"]\n",
    "                                 )\n",
    "vocab.set_default_index(vocab[\"<unk>\"])"
   ]
  },
  {
   "cell_type": "code",
   "execution_count": 17,
   "id": "0a7ed0f0-1a85-4385-977c-aefe305b4b62",
   "metadata": {},
   "outputs": [
    {
     "data": {
      "text/plain": [
       "[0, 0]"
      ]
     },
     "execution_count": 17,
     "metadata": {},
     "output_type": "execute_result"
    }
   ],
   "source": [
    "# Test\n",
    "vocab([\"age\",\"hello\"])"
   ]
  },
  {
   "cell_type": "markdown",
   "id": "486bf540-55b0-4746-aca0-7f056b4f96c6",
   "metadata": {},
   "source": [
    "### Dataset\n",
    "Você pode converter o conjunto de dados em conjuntos de dados no estilo de mapa e, em seguida, executar uma divisão aleatória para criar conjuntos de dados de treinamento e validação separados. O conjunto de dados de treinamento conterá 95% das amostras, enquanto o conjunto de dados de validação conterá os 5% restantes. Esses conjuntos de dados podem ser usados ​​para treinar e avaliar um modelo de aprendizado de máquina para classificação de texto no conjunto de dados AG_NEWS."
   ]
  },
  {
   "cell_type": "code",
   "execution_count": 19,
   "id": "6111ca1d-cd8c-4ffa-b09c-d849c153549d",
   "metadata": {},
   "outputs": [],
   "source": [
    "# Split the dataset into training and testing iterators\n",
    "train_iter, test_iter = AG_NEWS()"
   ]
  },
  {
   "cell_type": "code",
   "execution_count": 21,
   "id": "71e86c94-2d3f-4e13-9fde-7f79ad8de879",
   "metadata": {},
   "outputs": [],
   "source": [
    "# Convert the training and testing iterators to map-style dataset\n",
    "train_dataset = to_map_style_dataset(train_iter)\n",
    "test_dataset = to_map_style_dataset(test_iter)"
   ]
  },
  {
   "cell_type": "code",
   "execution_count": 22,
   "id": "17cf2447-160e-4b15-bda2-7f1b8c214493",
   "metadata": {},
   "outputs": [],
   "source": [
    "# Determine the number of samples to be used for training and \n",
    "# validation (5% for validation)\n",
    "num_train = int(len(train_dataset) * 0.95)"
   ]
  },
  {
   "cell_type": "code",
   "execution_count": 23,
   "id": "7c47e27d-70f4-4af1-b7e8-4a5f1dc6e2cd",
   "metadata": {},
   "outputs": [],
   "source": [
    "# Randomly split the training dataset into training and \n",
    "#  validation datasets using `random_split`.\n",
    "# The training dataset will contain 95% of the samples, \n",
    "#  and the validation dataset will contain the remaining 5%.\n",
    "split_train_, split_valid_ = random_split(train_dataset,\n",
    "                                          [num_train, len(train_dataset) - num_train]\n",
    "                                         )"
   ]
  },
  {
   "cell_type": "markdown",
   "id": "0c5d5900-987e-4e0c-81e9-41918437804e",
   "metadata": {},
   "source": [
    "Verificar a disponibilidade de GPU para processamento"
   ]
  },
  {
   "cell_type": "code",
   "execution_count": 24,
   "id": "25d4d9ce-1471-4828-86d2-9593be49dc72",
   "metadata": {},
   "outputs": [
    {
     "data": {
      "text/plain": [
       "device(type='cpu')"
      ]
     },
     "execution_count": 24,
     "metadata": {},
     "output_type": "execute_result"
    }
   ],
   "source": [
    "device = torch.device(\"cuda\" if torch.cuda.is_available() else \"cpu\")\n",
    "device"
   ]
  },
  {
   "cell_type": "markdown",
   "id": "9a1e2096-fb75-4f60-bbb5-a73d8d6adc6d",
   "metadata": {},
   "source": [
    "### Dataloader\n",
    "Prepare o pipeline de processamento de texto com o tokenizer e o vocabulário. Os pipelines de texto e rótulo serão usados ​​para processar as strings de dados brutos dos iteradores do conjunto de dados.\n",
    "\n",
    "A função `text_pipeline` tokenizará o texto de entrada e o `vocab` será então aplicado para obter os índices do token. O `label_pipeline` garantirá que os rótulos comecem em zero."
   ]
  },
  {
   "cell_type": "code",
   "execution_count": 26,
   "id": "580ac978-3e18-4587-8147-0c4fa0bfac2b",
   "metadata": {},
   "outputs": [],
   "source": [
    "def text_pipeline(x):\n",
    "    return vocab(tokenizer(x))"
   ]
  },
  {
   "cell_type": "code",
   "execution_count": 28,
   "id": "0bcc2590-a71e-4d54-bce0-5f2087c34ba6",
   "metadata": {},
   "outputs": [],
   "source": [
    "def label_pipeline(x):\n",
    "    return int(x) - 1"
   ]
  },
  {
   "cell_type": "markdown",
   "id": "5a14e18b-3d3a-4cc1-986d-8d52539d2aac",
   "metadata": {},
   "source": [
    "No PyTorch, a função collate_fn é usada em conjunto com data loaders para personalizar a forma como os batches são criados a partir de amostras individuais. O código fornecido define uma função collate_batch no PyTorch, utilizada com data loaders para personalizar a criação de batches a partir das amostras individuais. Essa função processa um batch de dados, incluindo rótulos e sequências de texto. Ela aplica as funções `label_pipeline` e `text_pipeline` para pré-processar os rótulos e os textos, respectivamente.\n",
    "\n",
    "Os dados processados são, então, convertidos em tensores do PyTorch e retornados como uma tupla contendo o tensor de rótulos, o tensor de texto e o tensor de offsets, que representa as posições iniciais de cada sequência de texto no tensor combinado. A função também garante que os tensores retornados sejam movidos para o dispositivo especificado (e.g., GPU) para uma computação eficiente."
   ]
  },
  {
   "cell_type": "code",
   "execution_count": 30,
   "id": "5ce976f5-35ff-4e2a-a051-4d7ee517f019",
   "metadata": {},
   "outputs": [],
   "source": [
    "def collate_batch(batch):\n",
    "    label_list, text_list, offsets = [],[],[0]\n",
    "\n",
    "    for _label, _text in batch:\n",
    "        label_list.append(label_pipeline(_label))\n",
    "        processed_text = torch.tensor(text_pipeline(_text), dtype=torch.int64)\n",
    "        text_list.append(processed_text)\n",
    "        offsets.append(processed_text.size(0))\n",
    "\n",
    "    label_list = torch.tensor(label_list, dtype=torch.int64)\n",
    "    offsets = torch.tensor(offsets[:-1]).cumsum(dim=0)\n",
    "    text_list = torch.cat(text_list)\n",
    "\n",
    "    return label_list.to(device), text_list.to(device), offsets.to(device)\n",
    "    "
   ]
  },
  {
   "cell_type": "markdown",
   "id": "56798879-dbf0-4e78-ac05-2bc86c75525c",
   "metadata": {},
   "source": [
    "Converta os objetos do Dataset em um Dataloader aplicando a função collate."
   ]
  },
  {
   "cell_type": "code",
   "execution_count": 31,
   "id": "6dfa18b2-f674-4f47-a5e0-d31bc82c58a9",
   "metadata": {},
   "outputs": [],
   "source": [
    "BATCH_SIZE = 64"
   ]
  },
  {
   "cell_type": "code",
   "execution_count": 32,
   "id": "481f3070-3669-4925-a79d-059878d82ff0",
   "metadata": {},
   "outputs": [],
   "source": [
    "train_dataloader = DataLoader(\n",
    "    split_train_, \n",
    "    batch_size=BATCH_SIZE,\n",
    "    shuffle=True,\n",
    "    collate_fn=collate_batch\n",
    ")"
   ]
  },
  {
   "cell_type": "code",
   "execution_count": 33,
   "id": "d5e7fe0a-7a8b-49f5-ba31-6228134d3c93",
   "metadata": {},
   "outputs": [],
   "source": [
    "valid_dataloader = DataLoader(\n",
    "    split_valid_, \n",
    "    batch_size=BATCH_SIZE, \n",
    "    shuffle=True, \n",
    "    collate_fn=collate_batch\n",
    ")"
   ]
  },
  {
   "cell_type": "code",
   "execution_count": 34,
   "id": "81db08ba-64b8-47dd-ac0e-8c3f6f90fad1",
   "metadata": {},
   "outputs": [],
   "source": [
    "test_dataloader = DataLoader(\n",
    "    test_dataset, \n",
    "    batch_size=BATCH_SIZE, \n",
    "    shuffle=True, \n",
    "    collate_fn=collate_batch\n",
    ")"
   ]
  },
  {
   "cell_type": "code",
   "execution_count": 35,
   "id": "3918fcbf-fc87-4849-87e2-d63e39a564e8",
   "metadata": {},
   "outputs": [
    {
     "data": {
      "text/plain": [
       "(tensor([1, 2, 2, 0, 3, 2, 0, 3, 0, 1, 0, 2, 1, 2, 0, 3, 2, 1, 1, 1, 3, 3, 2, 2,\n",
       "         0, 0, 2, 1, 3, 0, 2, 1, 1, 1, 3, 1, 2, 3, 1, 3, 1, 1, 1, 1, 3, 2, 0, 1,\n",
       "         1, 1, 3, 3, 2, 0, 2, 0, 1, 3, 1, 0, 3, 1, 1, 1]),\n",
       " tensor([0, 0, 0,  ..., 0, 0, 0]),\n",
       " tensor([   0,   45,   89,  128,  176,  234,  269,  292,  337,  374,  409,  453,\n",
       "          496,  539,  581,  621,  659,  709,  746,  799,  831,  870,  898,  940,\n",
       "          977, 1034, 1073, 1116, 1152, 1177, 1202, 1245, 1292, 1335, 1386, 1418,\n",
       "         1458, 1495, 1529, 1568, 1609, 1658, 1692, 1730, 1761, 1800, 1854, 1899,\n",
       "         1941, 1980, 2017, 2051, 2119, 2163, 2209, 2246, 2311, 2359, 2412, 2444,\n",
       "         2491, 2525, 2571, 2628]))"
      ]
     },
     "execution_count": 35,
     "metadata": {},
     "output_type": "execute_result"
    }
   ],
   "source": [
    "label, text, offsets=next(iter(valid_dataloader ))\n",
    "label, text, offsets"
   ]
  },
  {
   "cell_type": "markdown",
   "id": "3f3d8399-ab23-46a0-a8cb-681d40c67f3f",
   "metadata": {},
   "source": [
    "#### Rede Neural\n",
    "Criar uma rede neural para um modelo de classificação de texto usando uma camada EmbeddingBag, seguida por uma camada de saída softmax. Inicializar o modelo usando um método específico."
   ]
  },
  {
   "cell_type": "code",
   "execution_count": 36,
   "id": "f6fc45fc-5608-49b1-aa4d-8231fcd485bb",
   "metadata": {},
   "outputs": [],
   "source": [
    "from torch import nn"
   ]
  },
  {
   "cell_type": "code",
   "execution_count": 42,
   "id": "0beab4d2-115f-4de9-9a49-41823ec8c6c1",
   "metadata": {},
   "outputs": [],
   "source": [
    "class TextClassificationModel(nn.Module):\n",
    "    def __init__(self, vocab_size, embed_dim, num_class):\n",
    "        super(TextClassificationModel, self).__init__()\n",
    "        self.embedding = nn.EmbeddingBag(vocab_size, embed_dim, sparse=False)\n",
    "        self.fc = nn.Linear(embed_dim, num_class)\n",
    "        self.init_weights()\n",
    "\n",
    "    def init_weights(self):\n",
    "        initrange = 0.5\n",
    "        self.embedding.weight.data.uniform_(-initrange, initrange)\n",
    "        self.fc.weight.data.uniform_(-initrange, initrange)\n",
    "        self.fc.bias.data.zero_()\n",
    "\n",
    "    def forward(self, text, offsets):\n",
    "        embedded = self.embedding(text, offsets)\n",
    "        return self.fc(embedded)"
   ]
  },
  {
   "cell_type": "code",
   "execution_count": 43,
   "id": "712bddab-f168-4014-8370-342053e91ba9",
   "metadata": {},
   "outputs": [
    {
     "data": {
      "text/plain": [
       "1"
      ]
     },
     "execution_count": 43,
     "metadata": {},
     "output_type": "execute_result"
    }
   ],
   "source": [
    "# embedding dimension size\n",
    "emsize = 64\n",
    "\n",
    "# vocabulary size to determine the number of embeddings\n",
    "vocab_size = len(vocab)\n",
    "vocab_size"
   ]
  },
  {
   "cell_type": "code",
   "execution_count": 44,
   "id": "ccdc3716-bf59-4d62-a7bd-72925d04887a",
   "metadata": {},
   "outputs": [
    {
     "data": {
      "text/plain": [
       "4"
      ]
     },
     "execution_count": 44,
     "metadata": {},
     "output_type": "execute_result"
    }
   ],
   "source": [
    "# umber of classes for the output layer\n",
    "num_class"
   ]
  },
  {
   "cell_type": "code",
   "execution_count": 45,
   "id": "c613de25-f630-4dc1-bc7d-4859375f69c5",
   "metadata": {},
   "outputs": [
    {
     "data": {
      "text/plain": [
       "TextClassificationModel(\n",
       "  (embedding): EmbeddingBag(1, 64, mode='mean')\n",
       "  (fc): Linear(in_features=64, out_features=4, bias=True)\n",
       ")"
      ]
     },
     "execution_count": 45,
     "metadata": {},
     "output_type": "execute_result"
    }
   ],
   "source": [
    "# Creating the model\n",
    "model = TextClassificationModel(vocab_size, emsize, num_class).to(device)\n",
    "model"
   ]
  },
  {
   "cell_type": "code",
   "execution_count": 46,
   "id": "a27d0023-f9a1-44e6-b4f8-41141ca48499",
   "metadata": {},
   "outputs": [],
   "source": [
    "predicted_label = model(text,offsets)"
   ]
  },
  {
   "cell_type": "markdown",
   "id": "30dd5890-7ae3-40f0-95da-2592bd955db1",
   "metadata": {},
   "source": [
    "A linha de código `predict_label=model(text, offsets)` é usada para obter rótulos previstos de um modelo de aprendizado de máquina para um texto de entrada fornecido e seus deslocamentos correspondentes."
   ]
  },
  {
   "cell_type": "code",
   "execution_count": 47,
   "id": "b644560a-e1bf-4003-aa00-1720d4bbaafd",
   "metadata": {},
   "outputs": [
    {
     "data": {
      "text/plain": [
       "torch.Size([64, 4])"
      ]
     },
     "execution_count": 47,
     "metadata": {},
     "output_type": "execute_result"
    }
   ],
   "source": [
    "predicted_label.shape"
   ]
  },
  {
   "cell_type": "markdown",
   "id": "211892c9-e81e-4265-bbfd-d389c4f45c3e",
   "metadata": {},
   "source": [
    "verifica a forma de saída do seu modelo. Neste caso, o modelo é treinado com um tamanho de mini-lote de 64 amostras. A camada de saída do modelo produz quatro logits para cada neurônio, correspondendo às quatro classes na tarefa de classificação. Você também pode criar uma função para encontrar a precisão dada a um conjunto de dados."
   ]
  },
  {
   "cell_type": "code",
   "execution_count": 51,
   "id": "134bd5d1-23e4-4cf2-b6f1-4ce1b05df5ef",
   "metadata": {},
   "outputs": [],
   "source": [
    "def predict(text, text_pipeline):\n",
    "    with torch.no_grad():\n",
    "        text = torch.tensor(text_pipeline(text))\n",
    "        output = model(text, torch.tensor([0]))\n",
    "\n",
    "        return ag_news_label[output.argmax(1).item() + 1]"
   ]
  },
  {
   "cell_type": "markdown",
   "id": "0c53ecaf-2048-4e00-bb16-8b49ccb934dd",
   "metadata": {},
   "source": [
    "A função predict pega um texto e um pipeline de texto, que pré-processa o texto para aprendizado de máquina. Ela usa um modelo pré-treinado para prever o rótulo do texto para classificação de texto no conjunto de dados AG_NEWS. A função retorna o rótulo previsto como resultado."
   ]
  },
  {
   "cell_type": "code",
   "execution_count": 53,
   "id": "4c1b7bca-0d68-4117-8c92-3b1605eb79a3",
   "metadata": {},
   "outputs": [
    {
     "data": {
      "text/plain": [
       "'World'"
      ]
     },
     "execution_count": 53,
     "metadata": {},
     "output_type": "execute_result"
    }
   ],
   "source": [
    "predict(\"I like sports\", text_pipeline)"
   ]
  },
  {
   "cell_type": "code",
   "execution_count": 54,
   "id": "1b9ef282-70d9-41a6-a7fc-7ea5dd42f080",
   "metadata": {},
   "outputs": [
    {
     "data": {
      "text/plain": [
       "'World'"
      ]
     },
     "execution_count": 54,
     "metadata": {},
     "output_type": "execute_result"
    }
   ],
   "source": [
    "predict(\"I like so much Star Wars\", text_pipeline)"
   ]
  },
  {
   "cell_type": "markdown",
   "id": "9d6b24ed-3556-4292-9653-582825f206a7",
   "metadata": {},
   "source": [
    "Criar uma função para avaliar a precisão do modelo em um conjunto de dados."
   ]
  },
  {
   "cell_type": "code",
   "execution_count": 55,
   "id": "dc763731-dd3d-42a5-9929-edec0ec22136",
   "metadata": {},
   "outputs": [],
   "source": [
    "def evaluate(dataloader):\n",
    "    model.eval()\n",
    "    total_acc, total_count = 0, 0\n",
    "\n",
    "    with torch.no_grad():\n",
    "        for idx, (label, text, offsets) in enumerate(dataloader):\n",
    "            predicted_label = model(text, offsets)\n",
    "\n",
    "            total_acc += (predicted_label.argmax(1) == label).sum().item()\n",
    "            total_count += label.size(0)\n",
    "\n",
    "    return total_acc / total_count"
   ]
  },
  {
   "cell_type": "code",
   "execution_count": 56,
   "id": "a6832da7-da4f-4111-aff8-2f7f93ef163d",
   "metadata": {},
   "outputs": [
    {
     "data": {
      "text/plain": [
       "0.25"
      ]
     },
     "execution_count": 56,
     "metadata": {},
     "output_type": "execute_result"
    }
   ],
   "source": [
    "evaluate(test_dataloader)"
   ]
  },
  {
   "cell_type": "markdown",
   "id": "34d418f5-e63c-418d-9113-c45dae382ad7",
   "metadata": {},
   "source": [
    "O modelo foi avaliado e descobriu-se que seu desempenho não é melhor que a média. Esse resultado é esperado, considerando que o modelo ainda não passou por nenhum treinamento."
   ]
  },
  {
   "cell_type": "markdown",
   "id": "a5d06da3-6b55-46df-9abd-de300f646f18",
   "metadata": {},
   "source": [
    "### Treinar o Modelo\n",
    "Defina a taxa de aprendizado (learning rate, LR) como 0,1, o que determina o tamanho do passo em que o otimizador atualiza os parâmetros do modelo durante o treinamento. O critério `CrossEntropyLoss` é usado para calcular a perda entre as saídas previstas pelo modelo e os rótulos verdadeiros. Essa função de perda é comumente empregada para tarefas de classificação multiclasse.\n",
    "\n",
    "O otimizador escolhido é o `Stochastic Gradient Descent (SGD)`, que otimiza os parâmetros do modelo com base nos gradientes computados em relação à função de perda. O otimizador SGD usa a taxa de aprendizado especificada para controlar o tamanho das atualizações de peso.\n",
    "\n",
    "Além disso, um agendador de taxa de aprendizado (learning rate scheduler) é definido usando `StepLR`. Esse agendador ajusta a taxa de aprendizado durante o treinamento, reduzindo-a por um fator (gamma) de 0,1 após cada época (passo) para melhorar a convergência e ajustar o desempenho do modelo. Esses componentes juntos formam a configuração essencial para o treinamento de uma rede neural usando a taxa de aprendizado especificada, critério de perda, otimizador e agendador de taxa de aprendizado."
   ]
  },
  {
   "cell_type": "code",
   "execution_count": 62,
   "id": "fb2f422b-cdb8-4233-a409-15cf80024c72",
   "metadata": {},
   "outputs": [],
   "source": [
    "LR = 0.1\n",
    "\n",
    "criterion = torch.nn.CrossEntropyLoss()\n",
    "optimizer = torch.optim.SGD(model.parameters(), lr = LR)\n",
    "scheduler = torch.optim.lr_scheduler.StepLR(optimizer, 1.0, gamma=0.1)"
   ]
  },
  {
   "cell_type": "code",
   "execution_count": 64,
   "id": "7d42f076-d56d-41ea-8ca5-e1192f2d8f16",
   "metadata": {},
   "outputs": [
    {
     "name": "stderr",
     "output_type": "stream",
     "text": [
      "100%|██████████████████████████████████████████████████████████████████████████████████| 10/10 [01:25<00:00,  8.52s/it]\n"
     ]
    }
   ],
   "source": [
    "EPOCHS = 10\n",
    "cum_loss_list = []\n",
    "acc_epoch = []\n",
    "acc_old = 0\n",
    "\n",
    "for epoch in tqdm(range(1, EPOCHS + 1)):\n",
    "    model.train()\n",
    "    cum_loss = 0\n",
    "    for idx, (label, text, offsets) in enumerate(train_dataloader):\n",
    "        optimizer.zero_grad()\n",
    "        predicted_label = model(text, offsets)\n",
    "        loss = criterion(predicted_label, label)\n",
    "        loss.backward()\n",
    "        torch.nn.utils.clip_grad_norm(model.parameters(), 0.1)\n",
    "        optimizer.step()\n",
    "        cum_loss += loss.item()\n",
    "\n",
    "    cum_loss_list.append(cum_loss)\n",
    "    accu_val = evaluate(valid_dataloader)\n",
    "    acc_epoch.append(accu_val)\n",
    "\n",
    "    if accu_val > acc_old:\n",
    "        acc_old = accu_val\n",
    "        torch.save(model.state_dict(), \"my_model.pth\")"
   ]
  },
  {
   "cell_type": "code",
   "execution_count": 65,
   "id": "06674977-1029-4a26-89ee-77362745d768",
   "metadata": {},
   "outputs": [
    {
     "data": {
      "image/png": "[encoded data removed]",
      "text/plain": [
       "<Figure size 640x480 with 2 Axes>"
      ]
     },
     "metadata": {},
     "output_type": "display_data"
    }
   ],
   "source": [
    "plot(cum_loss_list,acc_epoch)"
   ]
  },
  {
   "cell_type": "code",
   "execution_count": 66,
   "id": "9ddf2860-1a02-4ef7-a131-a15862e7c981",
   "metadata": {},
   "outputs": [
    {
     "data": {
      "text/plain": [
       "0.25"
      ]
     },
     "execution_count": 66,
     "metadata": {},
     "output_type": "execute_result"
    }
   ],
   "source": [
    "evaluate(test_dataloader)"
   ]
  },
  {
   "cell_type": "markdown",
   "id": "39b770a7-58b9-424e-bcb3-593c258f010b",
   "metadata": {},
   "source": [
    "O código abaixo fornece um resumo para gerar uma visualização 3D t-SNE de embeddings usando Plotly. Ele demonstra como palavras que são semelhantes entre si são posicionadas mais próximas umas das outras."
   ]
  },
  {
   "cell_type": "code",
   "execution_count": 68,
   "id": "13abbf34-8e86-4231-8115-09669564ce52",
   "metadata": {},
   "outputs": [],
   "source": [
    "# Get the first batch from the validation data\n",
    "batch = next(iter(valid_dataloader))\n",
    "\n",
    "# Extract the text and offsets from the batch\n",
    "label, text, offsets = batch\n",
    "\n",
    "# Send the data to the device (GPU if available)\n",
    "text = text.to(device)\n",
    "offsets = offsets.to(device)\n",
    "\n",
    "# Get the embeddings bag output for the batch\n",
    "embedded = model.embedding(text, offsets)\n",
    "\n",
    "# Convert the embeddings tensor to a numpy array\n",
    "embeddings_numpy = embedded.detach().cpu().numpy()\n",
    "\n",
    "# Perform t-SNE on the embeddings to reduce their dimensionality to 3D.\n",
    "X_embedded_3d = TSNE(n_components=3).fit_transform(embeddings_numpy)"
   ]
  },
  {
   "cell_type": "code",
   "execution_count": 70,
   "id": "dc936f6e-7a27-458f-a9bc-b102398668bd",
   "metadata": {},
   "outputs": [],
   "source": [
    "# Create a 3D scatter plot using Plotly\n",
    "trace = go.Scatter3d(\n",
    "    x=X_embedded_3d[:, 0],\n",
    "    y=X_embedded_3d[:, 1],\n",
    "    z=X_embedded_3d[:, 2],\n",
    "    mode='markers',\n",
    "    marker=dict(\n",
    "        size=5,\n",
    "        color=label.numpy(),  # Use label information for color\n",
    "        colorscale='Viridis',  # Choose a colorscale\n",
    "        opacity=0.8\n",
    "    )\n",
    ")\n",
    "\n",
    "layout = go.Layout(title=\"3D t-SNE Visualization of Embeddings\",\n",
    "                   scene=dict(xaxis_title='Dimension 1',\n",
    "                              yaxis_title='Dimension 2',\n",
    "                              zaxis_title='Dimension 3'))\n",
    "\n",
    "fig = go.Figure(data=[trace], layout=layout)\n",
    "#fig.show()"
   ]
  },
  {
   "cell_type": "markdown",
   "id": "416b495f-b137-4e77-aa53-f24483236bcb",
   "metadata": {},
   "source": [
    "### Prever"
   ]
  },
  {
   "cell_type": "code",
   "execution_count": 71,
   "id": "5f01a128-444b-4a4e-904a-28214696934c",
   "metadata": {},
   "outputs": [],
   "source": [
    "article=\"\"\"Canada navigated a stiff test against the Republic of Ireland on a rain soaked evening in Perth, coming from behind to claim a vital 2-1 victory at the Women’s World Cup.\n",
    "Katie McCabe opened the scoring with an incredible Olimpico goal – scoring straight from a corner kick – as her corner flew straight over the despairing Canada goalkeeper Kailen Sheridan at Perth Rectangular Stadium in Australia.\n",
    "Just when Ireland thought it had safely navigated itself to half time with a lead, Megan Connolly failed to get a clean connection on a clearance with the resulting contact squirming into her own net to level the score.\n",
    "Minutes into the second half, Adriana Leon completed the turnaround for the Olympic champion, slotting home from the edge of the area to seal the three points.\"\"\""
   ]
  },
  {
   "cell_type": "code",
   "execution_count": 75,
   "id": "a7f891ab-2486-4cd8-8c13-4fbd0563791f",
   "metadata": {},
   "outputs": [
    {
     "data": {
      "text/markdown": [
       "\n",
       "<div style=\"background-color: lightgray; padding: 8px;\">\n",
       "    <h4>Canada navigated a stiff test against the Republic of Ireland on a rain soaked evening in Perth, coming from behind to claim a vital 2-1 victory at the Women’s World Cup.\n",
       "Katie McCabe opened the scoring with an incredible Olimpico goal – scoring straight from a corner kick – as her corner flew straight over the despairing Canada goalkeeper Kailen Sheridan at Perth Rectangular Stadium in Australia.\n",
       "Just when Ireland thought it had safely navigated itself to half time with a lead, Megan Connolly failed to get a clean connection on a clearance with the resulting contact squirming into her own net to level the score.\n",
       "Minutes into the second half, Adriana Leon completed the turnaround for the Olympic champion, slotting home from the edge of the area to seal the three points.</h4>\n",
       "</div>\n",
       "<div>\n",
       "<h4>The category of the news article: Sci/Tec</h4>\n",
       "</div>\n"
      ],
      "text/plain": [
       "<IPython.core.display.Markdown object>"
      ]
     },
     "execution_count": 75,
     "metadata": {},
     "output_type": "execute_result"
    }
   ],
   "source": [
    "result = predict(article, text_pipeline)\n",
    "\n",
    "markdown_content = f'''\n",
    "<div style=\"background-color: lightgray; padding: 8px;\">\n",
    "    <h4>{article}</h4>\n",
    "</div>\n",
    "<div>\n",
    "<h4>The category of the news article: {result}</h4>\n",
    "</div>\n",
    "'''\n",
    "\n",
    "md(markdown_content)"
   ]
  },
  {
   "cell_type": "markdown",
   "id": "b4a346ca-e8bb-45d7-ada6-876dda4101da",
   "metadata": {},
   "source": [
    "____\n",
    "Esse material tem como referência o curso [Generative AI and LLMs: Architecture and Data Preparation](https://www.coursera.org/learn/generative-ai-llm-architecture-data-preparation?specialization=generative-ai-engineering-with-llms)"
   ]
  },
  {
   "cell_type": "code",
   "execution_count": null,
   "id": "f4a487e8-ed50-47fe-89fb-43d972297629",
   "metadata": {},
   "outputs": [],
   "source": []
  }
 ],
 "metadata": {
  "kernelspec": {
   "display_name": "Python 3 (ipykernel)",
   "language": "python",
   "name": "python3"
  },
  "language_info": {
   "codemirror_mode": {
    "name": "ipython",
    "version": 3
   },
   "file_extension": ".py",
   "mimetype": "text/x-python",
   "name": "python",
   "nbconvert_exporter": "python",
   "pygments_lexer": "ipython3",
   "version": "3.11.7"
  }
 },
 "nbformat": 4,
 "nbformat_minor": 5
}
