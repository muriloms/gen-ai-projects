{
 "cells": [
  {
   "cell_type": "markdown",
   "id": "4083f544-ce7d-4aab-b01f-2a6c337fbb3a",
   "metadata": {},
   "source": [
    "## Construir e Treinar um Modelo de Linguagem Simples com uma Rede Neural\n"
   ]
  },
  {
   "cell_type": "markdown",
   "id": "05fa7b91-95ca-4d0d-a008-75b13a7f9dde",
   "metadata": {},
   "source": [
    "Este projeto serve como introdução ao campo de modelagem de linguagem, com foco na criação de um gerador de texto voltado para compor músicas de rap dos anos 90. É utilizado modelos de N-grama baseados em histogramas, implementados através da Natural Language Toolkit (NLTK). Essa abordagem permite construir histogramas reveladores, que elucidam cadências sutis nas frequências e distribuições de palavras.\n"
   ]
  },
  {
   "cell_type": "markdown",
   "id": "335899be-f492-41ad-8f40-1baed09f09c8",
   "metadata": {},
   "source": [
    "### Objetivos\n",
    "- Utilizar modelos de N-grama baseados em histogramas, implementados através da Natural Language Toolkit (NLTK), para analisar e entender frequências e distribuições de palavras.\n",
    "- Implementar uma rede neural feedforward usando a estrutura PyTorch, incluindo camadas de embedding, para tarefas de modelagem de linguagem.\n",
    "- Ajustar a camada de saída da rede neural para obter desempenho ideal na geração de texto.\n",
    "- Aplicar diversas estratégias de treinamento e técnicas fundamentais de Processamento de Linguagem Natural (NLP), como tokenização e análise de sequência, para aprimorar a geração de texto."
   ]
  },
  {
   "cell_type": "markdown",
   "id": "8cf0554c-58ee-42ef-93ad-4778b5110e1d",
   "metadata": {},
   "source": [
    "### Preparar setup - instalar bibliotecas\n"
   ]
  },
  {
   "cell_type": "code",
   "execution_count": 1,
   "id": "2ed19293-0858-4cde-bfab-ede0fe3882c3",
   "metadata": {},
   "outputs": [],
   "source": [
    "def warn(*args, **kwargs):\n",
    "    pass\n",
    "    \n",
    "import warnings\n",
    "warnings.warn = warn\n",
    "warnings.filterwarnings('ignore')\n",
    "\n",
    "import importlib.util\n",
    "import subprocess\n",
    "import sys\n",
    "\n",
    "def check_and_install(package, pip_name=None):\n",
    "    if pip_name is None:\n",
    "        pip_name = package\n",
    "    spec = importlib.util.find_spec(package)\n",
    "    if spec is None:\n",
    "        print(f\"{package} não está instalado. Instalando...\")\n",
    "        subprocess.check_call([sys.executable, \"-m\", \"pip\", \"install\", pip_name])\n",
    "    else:\n",
    "        print(f\"{package} já está instalado.\")"
   ]
  },
  {
   "cell_type": "code",
   "execution_count": 2,
   "id": "9423cc67-6d35-4cca-8e5e-c7137fd18174",
   "metadata": {},
   "outputs": [
    {
     "name": "stdout",
     "output_type": "stream",
     "text": [
      "nltk já está instalado.\n",
      "torchtext já está instalado.\n"
     ]
    }
   ],
   "source": [
    "check_and_install('nltk')\n",
    "check_and_install('torchtext')"
   ]
  },
  {
   "cell_type": "markdown",
   "id": "da8fbf54-e269-42be-a8ed-fd3683d4eeec",
   "metadata": {},
   "source": [
    "### Importar bibliotecas"
   ]
  },
  {
   "cell_type": "code",
   "execution_count": 83,
   "id": "a67b8474-3c8f-4205-92aa-c31916824899",
   "metadata": {},
   "outputs": [
    {
     "name": "stderr",
     "output_type": "stream",
     "text": [
      "[nltk_data] Downloading package punkt to\n",
      "[nltk_data]     C:\\Users\\murilo.silvestrini\\AppData\\Roaming\\nltk_data.\n",
      "[nltk_data]     ..\n",
      "[nltk_data]   Package punkt is already up-to-date!\n"
     ]
    }
   ],
   "source": [
    "import time\n",
    "from tqdm import tqdm\n",
    "from collections import OrderedDict\n",
    "\n",
    "import re\n",
    "\n",
    "import numpy as np\n",
    "import matplotlib.pyplot as plt\n",
    "import pandas as pd\n",
    "\n",
    "\n",
    "import nltk\n",
    "nltk.download('punkt')\n",
    "\n",
    "import torch\n",
    "import torch.nn as nn\n",
    "import torch.nn.functional as F\n",
    "import torch.optim as optim\n",
    "import string\n",
    "import time\n",
    "\n",
    "import matplotlib.pyplot as plt\n",
    "from sklearn.manifold import TSNE"
   ]
  },
  {
   "cell_type": "markdown",
   "id": "4647ee32-1cbd-4d50-ba2b-c905dbdc3fb6",
   "metadata": {},
   "source": [
    "### Definir funções auxiliares"
   ]
  },
  {
   "cell_type": "code",
   "execution_count": 4,
   "id": "272daef7-6b06-4880-bfb1-18658b2c0aa3",
   "metadata": {},
   "outputs": [],
   "source": [
    "def preprocess_string(s):\n",
    "    # Remove all non-word characters (everything except numbers and letters)\n",
    "    s = re.sub(r\"[^\\w\\s]\", '', s)\n",
    "    # Replace all runs of whitespaces with no space\n",
    "    s = re.sub(r\"\\s+\", '', s)\n",
    "    # replace digits with no space\n",
    "    s = re.sub(r\"\\d\", '', s)\n",
    "\n",
    "    return s"
   ]
  },
  {
   "cell_type": "markdown",
   "id": "1e69d6cf-752b-45fc-86f1-aae9eed407de",
   "metadata": {},
   "source": [
    "### Modelagem de Linguagem\n",
    "A modelagem de linguagem é um conceito fundamental no campo de processamento de linguagem natural (NLP) e inteligência artificial. Ela envolve a previsão da probabilidade de uma sequência de palavras em uma determinada língua. Esse método é de natureza estatística e busca capturar os padrões, estruturas e relações existentes entre palavras em um corpus de texto.\n",
    "\n",
    "Em essência, um modelo de linguagem se esforça para entender as probabilidades associadas a sequências de palavras. Esse entendimento pode ser aplicado a uma variedade de tarefas de NLP, incluindo, mas não se limitando a, geração de texto, tradução automática, reconhecimento de fala, análise de sentimentos e muito mais.\n",
    "\n",
    "Vamos considerar as letras de uma música a seguir para determinar se você consegue gerar uma saída semelhante usando uma palavra específica."
   ]
  },
  {
   "cell_type": "code",
   "execution_count": 5,
   "id": "fc8bdcdc-5666-4c28-ba3e-6d64849fcd27",
   "metadata": {},
   "outputs": [],
   "source": [
    "song= \"\"\"We are no strangers to love\n",
    "You know the rules and so do I\n",
    "A full commitments what Im thinking of\n",
    "You wouldnt get this from any other guy\n",
    "I just wanna tell you how Im feeling\n",
    "Gotta make you understand\n",
    "Never gonna give you up\n",
    "Never gonna let you down\n",
    "Never gonna run around and desert you\n",
    "Never gonna make you cry\n",
    "Never gonna say goodbye\n",
    "Never gonna tell a lie and hurt you\n",
    "Weve known each other for so long\n",
    "Your hearts been aching but youre too shy to say it\n",
    "Inside we both know whats been going on\n",
    "We know the game and were gonna play it\n",
    "And if you ask me how Im feeling\n",
    "Dont tell me youre too blind to see\n",
    "Never gonna give you up\n",
    "Never gonna let you down\n",
    "Never gonna run around and desert you\n",
    "Never gonna make you cry\n",
    "Never gonna say goodbye\n",
    "Never gonna tell a lie and hurt you\n",
    "Never gonna give you up\n",
    "Never gonna let you down\n",
    "Never gonna run around and desert you\n",
    "Never gonna make you cry\n",
    "Never gonna say goodbye\n",
    "Never gonna tell a lie and hurt you\n",
    "Weve known each other for so long\n",
    "Your hearts been aching but youre too shy to say it\n",
    "Inside we both know whats been going on\n",
    "We know the game and were gonna play it\n",
    "I just wanna tell you how Im feeling\n",
    "Gotta make you understand\n",
    "Never gonna give you up\n",
    "Never gonna let you down\n",
    "Never gonna run around and desert you\n",
    "Never gonna make you cry\n",
    "Never gonna say goodbye\n",
    "Never gonna tell a lie and hurt you\n",
    "Never gonna give you up\n",
    "Never gonna let you down\n",
    "Never gonna run around and desert you\n",
    "Never gonna make you cry\n",
    "Never gonna say goodbye\n",
    "Never gonna tell a lie and hurt you\n",
    "Never gonna give you up\n",
    "Never gonna let you down\n",
    "Never gonna run around and desert you\n",
    "Never gonna make you cry\n",
    "Never gonna say goodbye\n",
    "Never gonna tell a lie and hurt you\"\"\""
   ]
  },
  {
   "cell_type": "markdown",
   "id": "d5c9aa73-fe50-4740-911d-dee95fd1bec4",
   "metadata": {},
   "source": [
    "### Natural Language Toolkit (NLTK)\n",
    "O NLTK é uma biblioteca de código aberto amplamente utilizada em Python, projetada especificamente para diversas tarefas de processamento de linguagem natural (NLP). Ela oferece um conjunto abrangente de ferramentas, recursos e algoritmos que auxiliam na análise e manipulação de dados de linguagem humana.\n",
    "\n"
   ]
  },
  {
   "cell_type": "markdown",
   "id": "0fa7fc02-4824-43af-97fe-4a6a6383f65b",
   "metadata": {},
   "source": [
    "### Tokenização\n",
    "A tokenização, um conceito fundamental no processamento de linguagem natural (NLP), envolve o processo de dividir um corpo de texto em unidades discretas conhecidas como tokens. Esses tokens podem ser palavras, frases, sentenças ou até caracteres individuais, adaptando-se com base no nível de granularidade desejado para análise. \n",
    "\n",
    "- Tokenização de Palavras: técnica que trata cada palavra no texto como uma entidade independente. Palavras, geralmente separadas por espaços ou marcas de pontuação, servem como tokens nessa abordagem. É importante notar que a Tokenização de Palavras exibe características versáteis, como distinção entre maiúsculas e minúsculas, símbolos e pontuação.\n",
    "\n",
    "Será utilizado a função word_tokenize. Durante esse processo, você removerá pontuação, símbolos e letras maiúsculas."
   ]
  },
  {
   "cell_type": "code",
   "execution_count": 6,
   "id": "b4de55b8-c1e7-48d0-93a7-a095d3be6fa1",
   "metadata": {},
   "outputs": [],
   "source": [
    "from nltk.tokenize import word_tokenize"
   ]
  },
  {
   "cell_type": "code",
   "execution_count": 7,
   "id": "c35c7cec-aaee-467e-aeb3-35d2d09d0d68",
   "metadata": {},
   "outputs": [],
   "source": [
    "def preprocess(words):\n",
    "    tokens = word_tokenize(words)\n",
    "    tokens = [preprocess_string(w) for w in tokens]\n",
    "    return [w.lower() for w in tokens if len(w) != 0 or not (w in string.punctuation)]"
   ]
  },
  {
   "cell_type": "code",
   "execution_count": 8,
   "id": "b471c517-b6b6-4b27-aac5-9188a9b73b6c",
   "metadata": {},
   "outputs": [],
   "source": [
    "tokens = preprocess(song)"
   ]
  },
  {
   "cell_type": "code",
   "execution_count": 9,
   "id": "cde1abf1-379f-44b9-b9b4-26e10f05b9a8",
   "metadata": {},
   "outputs": [
    {
     "data": {
      "text/plain": [
       "['we', 'are', 'no', 'strangers', 'to', 'love', 'you', 'know', 'the', 'rules']"
      ]
     },
     "execution_count": 9,
     "metadata": {},
     "output_type": "execute_result"
    }
   ],
   "source": [
    "tokens[0:10]"
   ]
  },
  {
   "cell_type": "markdown",
   "id": "cf507f0f-0c62-432b-9cfb-cc0b5c55519e",
   "metadata": {},
   "source": [
    "A distribuição de frequência de palavras em uma sentença representa a frequência com que cada palavra aparece nessa sentença específica. Ela fornece uma contagem das ocorrências de palavras individuais, permitindo entender quais palavras são mais comuns ou frequentes na sentença dada. Vamos trabalhar com o seguinte exemplo simples:\n",
    "\n",
    "Texto: \"I like dogs and I kinda like cats\"\n",
    "\n",
    "Tokens: [\"I\", \"like\", \"dogs\", \"and\", \"I\", \"kinda\", \"like\", \"cats\"]\n",
    "\n",
    "A função Count irá contar as ocorrências de palavras no texto de entrada."
   ]
  },
  {
   "cell_type": "markdown",
   "id": "bdaff1c6-8238-4e64-9481-ef044781169f",
   "metadata": {},
   "source": [
    "$Count(\"I\")=2$\n",
    "\n",
    "$Count(\"like\")= 2$\n",
    "\n",
    "$Count(\"dogs\")=1$\n",
    "\n",
    "$Count(\"and\")=1$\n",
    "\n",
    "$Count(\"kinda\")=1$\n",
    "\n",
    "$Count(\"cats\")=1$\n",
    "\n",
    "$\\text{Total words} =8$\n"
   ]
  },
  {
   "cell_type": "markdown",
   "id": "a7a2378c-28aa-418d-8eb4-858fec5acdd1",
   "metadata": {},
   "source": [
    "Utilize o ```NLTK's FreqDist``` para transformar uma distribuição de frequência de palavras. O resultado é um dicionário Python onde as chaves correspondem a palavras, e os valores indicam a frequência de aparição de cada palavra."
   ]
  },
  {
   "cell_type": "code",
   "execution_count": 10,
   "id": "4a054891-cf89-4d0b-b3bb-64b3168bc8e9",
   "metadata": {},
   "outputs": [
    {
     "data": {
      "text/plain": [
       "FreqDist({'na': 40, 'gon': 38, 'you': 37, 'never': 36, 'and': 16, 'tell': 9, 'make': 8, 'say': 8, 'a': 7, 'give': 6, ...})"
      ]
     },
     "execution_count": 10,
     "metadata": {},
     "output_type": "execute_result"
    }
   ],
   "source": [
    "# Create a frequency distribution of words\n",
    "fdist = nltk.FreqDist(tokens)\n",
    "fdist"
   ]
  },
  {
   "cell_type": "code",
   "execution_count": 11,
   "id": "c77d95f5-5980-4cfb-8fce-2a4c805ddad1",
   "metadata": {},
   "outputs": [
    {
     "data": {
      "image/png": "[encoded data removed]",
      "text/plain": [
       "<Figure size 640x480 with 1 Axes>"
      ]
     },
     "metadata": {},
     "output_type": "display_data"
    }
   ],
   "source": [
    "plt.bar(list(fdist.keys())[0:10], list(fdist.values())[0:10])\n",
    "plt.xlabel('Words')\n",
    "plt.ylabel('Frequency')\n",
    "plt.grid()\n",
    "plt.show()"
   ]
  },
  {
   "cell_type": "markdown",
   "id": "43d9f19a-3460-4c8b-b4fa-70237f8b4d09",
   "metadata": {},
   "source": [
    "### Modelo Unigram\n",
    "Um modelo unigram é um tipo simples de modelo de linguagem que considera cada palavra em uma sequência independentemente, sem levar em conta as palavras anteriores. Em outras palavras, ele modela a probabilidade de cada palavra ocorrer no texto, independentemente do que veio antes dela. Os modelos unigram podem ser vistos como um caso especial de modelos n-gram, onde n é 1.\n",
    "\n",
    "Você pode pensar que o texto segue padrões, e as probabilidades são usadas para medir a probabilidade de uma sequência de palavras. Em um modelo unigram, cada palavra é considerada independente e não depende das outras. Vamos calcular a probabilidade de **'I like tiramisu but I love cheesecake more'**."
   ]
  },
  {
   "cell_type": "markdown",
   "id": "e3f785e5-01bd-426d-a229-79b5217b4050",
   "metadata": {},
   "source": [
    "$  P(\\text{\"I\"}) = \\frac{\\text{Count}(\\text{\"I\"})}{\\text{Total words}}=\\frac{2}{8} = 0.250  $\n",
    "\n",
    "$  P(\\text{\"like\"}) = \\frac{\\text{Count}(\\text{\"like\"})}{\\text{Total words}}=\\frac{1}{8} = 0.125  $\n",
    "\n",
    "$  P(\\text{\"tiramisu\"}) = \\frac{\\text{Count}(\\text{\"tiramisu\"})}{\\text{Total words}}=\\frac{1}{8} = 0.125  $\n",
    "\n",
    "$  P(\\text{\"but\"}) = \\frac{\\text{Count}(\\text{\"but\"})}{\\text{Total words}}=\\frac{1}{8} = 0.125  $\n",
    "\n",
    "$  P(\\text{\"I\"}) = \\frac{\\text{Count}(\\text{\"I\"})}{\\text{Total words}}=\\frac{2}{8} = 0.250  $\n",
    "\n",
    "$  P(\\text{\"love\"}) = \\frac{\\text{Count}(\\text{\"love\"})}{\\text{Total words}}=\\frac{1}{8} = 0.125  $\n",
    "\n",
    "$  P(\\text{\"cheesecake\"}) = \\frac{\\text{Count}(\\text{\"cheesecake\"})}{\\text{Total words}}=\\frac{1}{8} = 0.125  $\n",
    "\n",
    "$  P(\\text{\"more\"}) = \\frac{\\text{Count}(\\text{\"more\"})}{\\text{Total words}}=\\frac{1}{8} = 0.125  $\n",
    "\n",
    "$P(\\text{\"I\"}, \\text{\"like\"}, \\text{\"tiramisu\"}, \\text{\"but\"}, \\text{\"I\"}, \\text{\"love\"}, \\text{\"cheesecake\"}, \\text{\"more\"}) = P(\\text{\"I\"}) \\cdot P(\\text{\"like\"}) \\cdot P(\\text{\"tiramisu\"}) \\cdot P(\\text{\"but\"}) \\cdot P(\\text{\"I\"}) \\cdot P(\\text{\"love\"}) \\cdot P(\\text{\"cheesecake\"}) \\cdot P(\\text{\"more\"}) = 0.250 \\times 0.125 \\times 0.125 \\times 0.125 \\times 0.250 \\times 0.125 \\times 0.125 \\times 0.125$\n",
    "\n",
    "Em geral, os modelos de linguagem se resumem à previsão de uma sequência de comprimento $t$: $P(W_t, W_{t-1}, ..., W_0)$. Nesta sequência de oito palavras, você tem:\n",
    "\n",
    "$P(W_7=\\text{\"more\"}, W_6=\\text{\"cheesecake\"}, W_5=\\text{\"love\"}, W_4=\\text{\"I\"}, W_3=\\text{\"but\"}, W_2=\\text{\"tiramisu\"}, W_1=\\text{\"like\"}, W_0=\\text{\"I\"})$\n",
    "\n",
    "O subscrito serve como um indicador posicional na sequência e não impacta a natureza de $P(\\bullet)$. Ao expressar formalmente a sequência, a última palavra é posicionada no lado mais à esquerda, descendo gradualmente conforme você avança pela sequência."
   ]
  },
  {
   "cell_type": "markdown",
   "id": "a1af3095-a851-4da2-b53f-fc937921e577",
   "metadata": {},
   "source": [
    "Usando NLTK, podemos normalizar os valores de frequência dividindo-os pela contagem total de cada palavra para obter uma função de probabilidade. Calcular a probabilidade de cada palavra."
   ]
  },
  {
   "cell_type": "code",
   "execution_count": 12,
   "id": "532b11b2-8925-4e16-8775-3014470c70ed",
   "metadata": {},
   "outputs": [
    {
     "data": {
      "text/plain": [
       "385"
      ]
     },
     "execution_count": 12,
     "metadata": {},
     "output_type": "execute_result"
    }
   ],
   "source": [
    "# Total count of each word\n",
    "C = sum(fdist.values())\n",
    "C"
   ]
  },
  {
   "cell_type": "code",
   "execution_count": 13,
   "id": "72231163-d607-4f79-af57-5b392050ff5e",
   "metadata": {},
   "outputs": [
    {
     "data": {
      "text/plain": [
       "0.0025974025974025974"
      ]
     },
     "execution_count": 13,
     "metadata": {},
     "output_type": "execute_result"
    }
   ],
   "source": [
    "fdist['strangers']/C"
   ]
  },
  {
   "cell_type": "code",
   "execution_count": 14,
   "id": "28e617ce-57ab-4df7-8c5d-7edf159eb2d2",
   "metadata": {},
   "outputs": [],
   "source": [
    "vocabulary=set(tokens)"
   ]
  },
  {
   "cell_type": "markdown",
   "id": "74119e9a-2ed8-440e-9ab3-b847dbd4c772",
   "metadata": {},
   "source": [
    "### Como o modelo unigram prevê a próxima palavra provável\n",
    "Vamos considerar um cenário do exemplo acima, \"I like tiramisu but I love cheesecake more\", onde o modelo unigram é solicitado a prever a próxima palavra após a sequência \"I like\".\n",
    "\n",
    "Se a maior probabilidade entre todas as palavras for \"I\" com uma probabilidade de 0,25, então, de acordo com o modelo, a próxima palavra mais provável após \"I like\" seria \"I\". No entanto, essa previsão não faz sentido algum. Isso destaca uma limitação significativa do modelo unigram — ele não possui contexto, e suas previsões são totalmente dependentes da palavra com a maior probabilidade, \"I\" neste caso.\n",
    "\n",
    "Mesmo que várias palavras tenham as mesmas maiores probabilidades, ele escolherá aleatoriamente uma das opções."
   ]
  },
  {
   "cell_type": "markdown",
   "id": "8dc9c40c-8970-4aba-9373-5a5cfdba9088",
   "metadata": {},
   "source": [
    "### Modelo Bigram\n",
    "Os bigramas representam pares de palavras consecutivas na frase dada, ou seja, $(w_{t-1},w_t)$\n",
    "\n",
    "Considere as seguintes palavras do seu exemplo: \"I like dogs and I kinda like cats.\"\n",
    "\n",
    "A sequência correta de bigramas é:"
   ]
  },
  {
   "cell_type": "markdown",
   "id": "a16e5377-80f6-4966-ba20-fc0e2981e274",
   "metadata": {},
   "source": [
    "$(I, like)$\n",
    "\n",
    "$(like, dogs)$\n",
    "\n",
    "$(dogs, and)$\n",
    "\n",
    "$(and, I)$\n",
    "\n",
    "$(I, kinda)$\n",
    "\n",
    "$(kinda, like)$\n",
    "\n",
    "$(like, cats)$"
   ]
  },
  {
   "cell_type": "markdown",
   "id": "e85ab183-5de4-4e26-80cd-89a14c987063",
   "metadata": {},
   "source": [
    "**Modelos de 2 gramas**: Os modelos bigrama usam probabilidade condicional. A probabilidade de uma palavra depende apenas da palavra anterior, ou seja, a probabilidade condicional $(W_{t}, W_{t-1})$ é usada para prever a probabilidade da palavra $(W_t)$ seguir a palavra $W_{t-1}$ em uma sequência. Podemos calcular a probabilidade condicional para um modelo bigrama usando as seguintes etapas."
   ]
  },
  {
   "cell_type": "markdown",
   "id": "71300d09-d488-4e60-8715-25d3cbc60653",
   "metadata": {},
   "source": [
    "Execute a contagem de palavras do bigrama para cada bigrama: $Count(W_{t-1}, W_{t})$\n",
    "$Count(\\text{I, like}) = 1$\n",
    "\n",
    "$Count(\\text{like, dogs}) = 1$\n",
    "\n",
    "$Count(\\text{dogs, and}) = 1$\n",
    "\n",
    "$Count(\\text{and, I}) = 1$\n",
    "\n",
    "$Count(\\text{I, kinda}) = 1$\n",
    "\n",
    "$Count(\\text{kinda, like}) = 1$\n",
    "\n",
    "$Count(\\text{like, cats}) = 1$"
   ]
  },
  {
   "cell_type": "markdown",
   "id": "e59ba2a7-0e61-4d24-8aa9-86b408bac27a",
   "metadata": {},
   "source": [
    "Calcular a probabilidade condicional para cada bigrama na forma de $P(w_{t} | w_{t-1})$, onde $w_{t-1}$ é o **contexto** e o tamanho do contexto é um.\n",
    "$P(\\text{\"like\"} | \\text{\"I\"}) = \\frac{\\text{Count}(\\text{\"I, like\"})}{\\text{Total count of \"I\"}} = \\frac{1}{2} = 0.5$\n",
    "\n",
    "$P(\\text{\"dogs\"} | \\text{\"like\"}) = \\frac{\\text{Count}(\\text{\"like, dogs\"})}{\\text{Total count of \"like\"}} = \\frac{1}{2} = 0.5$\n",
    "\n",
    "$:$\n",
    "\n",
    "$P(\\text{\"like\"} | \\text{\"kinda\"}) = \\frac{\\text{Count}(\\text{\"kinda, like\"})}{\\text{Total count of \"kinda\"}} = \\frac{1}{1} = 1$\n",
    "\n",
    "$P(\\text{\"cats\"} | \\text{\"like\"}) = \\frac{\\text{Count}(\\text{\"like, cats\"})}{\\text{Total count of \"like\"}} = \\frac{1}{2} = 0.5$\n",
    "\n",
    "Essas probabilidades representam a probabilidade de encontrar a segunda palavra em um bigrama, dada a presença da primeira palavra."
   ]
  },
  {
   "cell_type": "markdown",
   "id": "c42adac6-3500-43a9-9f0a-a696ee4bd887",
   "metadata": {},
   "source": [
    "Essa abordagem é, na verdade, uma aproximação usada para determinar a palavra mais provável $W_t$, dadas as palavras $W_{t-1}, W_{t-2}, \\ldots, W_1$ na sequência.\n",
    "$P(W_t | W_{t-1}, W_{t-2}, \\ldots, W_1) \\approx P(W_t | W_{t-1})$\n",
    "\n",
    "A probabilidade condicional $P(W_t | W_{t-1})$ significa a probabilidade de encontrar a palavra $W_t$, com base no contexto fornecido pela palavra precedente $W_{t-1}$. Ao empregar essa aproximação, simplifique o processo de modelagem assumindo que a ocorrência da palavra atual é influenciada principalmente pela palavra mais recente na sequência. Em geral, você tem a capacidade de identificar a palavra mais provável.\n",
    "\n",
    "$\\hat{W_t} = \\arg\\max_{W_t} \\left( P(W_t | W_{t-1}) \\right)$\n"
   ]
  },
  {
   "cell_type": "markdown",
   "id": "f2e8e5dc-f0a2-46f4-816b-d840dc813a0f",
   "metadata": {},
   "source": [
    "```bigrams``` é uma função fornecida pela biblioteca Natural Language Toolkit (NLTK) em Python. Esta função recebe uma sequência de tokens como entrada e retorna um iterador sobre pares consecutivos de tokens, formando bigramas."
   ]
  },
  {
   "cell_type": "code",
   "execution_count": 15,
   "id": "b07b7da7-0a79-4b53-8e90-155e98c6ea69",
   "metadata": {},
   "outputs": [
    {
     "data": {
      "text/plain": [
       "<generator object bigrams at 0x000001FA958351C0>"
      ]
     },
     "execution_count": 15,
     "metadata": {},
     "output_type": "execute_result"
    }
   ],
   "source": [
    "bigrams = nltk.bigrams(tokens)\n",
    "bigrams"
   ]
  },
  {
   "cell_type": "markdown",
   "id": "2adbc8cf-ec11-4cf2-ae69-8f64fd013673",
   "metadata": {},
   "source": [
    "Converta um gerador em uma lista, onde cada elemento da lista é um bigrama."
   ]
  },
  {
   "cell_type": "code",
   "execution_count": 16,
   "id": "4c300c60-41fe-4ecf-8de6-85d7687cdcba",
   "metadata": {},
   "outputs": [],
   "source": [
    "my_bigrams = list(nltk.bigrams(tokens))"
   ]
  },
  {
   "cell_type": "code",
   "execution_count": 17,
   "id": "6b79465e-3a8d-4ef5-addd-45e115861396",
   "metadata": {},
   "outputs": [
    {
     "data": {
      "text/plain": [
       "[('we', 'are'),\n",
       " ('are', 'no'),\n",
       " ('no', 'strangers'),\n",
       " ('strangers', 'to'),\n",
       " ('to', 'love'),\n",
       " ('love', 'you'),\n",
       " ('you', 'know'),\n",
       " ('know', 'the'),\n",
       " ('the', 'rules'),\n",
       " ('rules', 'and')]"
      ]
     },
     "execution_count": 17,
     "metadata": {},
     "output_type": "execute_result"
    }
   ],
   "source": [
    "my_bigrams[0:10]"
   ]
  },
  {
   "cell_type": "markdown",
   "id": "a97157e5-d54c-430b-84ee-c4c6ffff9cce",
   "metadata": {},
   "source": [
    "Calcular a distribuição de frequência do bigrama $C(w_{t},w_{t-1})$ usando a função NLTK ```bigrams```."
   ]
  },
  {
   "cell_type": "code",
   "execution_count": 18,
   "id": "63a08b0e-8bb5-4149-abd1-0caf4bb9b8ed",
   "metadata": {},
   "outputs": [
    {
     "data": {
      "text/plain": [
       "FreqDist({('gon', 'na'): 38, ('never', 'gon'): 36, ('you', 'never'): 9, ('na', 'tell'): 8, ('make', 'you'): 8, ('na', 'give'): 6, ('give', 'you'): 6, ('you', 'up'): 6, ('up', 'never'): 6, ('na', 'let'): 6, ...})"
      ]
     },
     "execution_count": 18,
     "metadata": {},
     "output_type": "execute_result"
    }
   ],
   "source": [
    "freq_bigrams = nltk.FreqDist(nltk.bigrams(tokens))\n",
    "freq_bigrams"
   ]
  },
  {
   "cell_type": "code",
   "execution_count": 19,
   "id": "c9907012-57c3-4878-a449-1a114ad14c7d",
   "metadata": {},
   "outputs": [
    {
     "data": {
      "text/plain": [
       "1"
      ]
     },
     "execution_count": 19,
     "metadata": {},
     "output_type": "execute_result"
    }
   ],
   "source": [
    "freq_bigrams[('we', 'are')]"
   ]
  },
  {
   "cell_type": "code",
   "execution_count": 20,
   "id": "8fd4832b-b1ef-4da8-92bf-2b8c19aa21fc",
   "metadata": {},
   "outputs": [
    {
     "name": "stdout",
     "output_type": "stream",
     "text": [
      "('we', 'are')\n",
      "1\n",
      "('are', 'no')\n",
      "1\n",
      "('no', 'strangers')\n",
      "1\n",
      "('strangers', 'to')\n",
      "1\n",
      "('to', 'love')\n",
      "1\n",
      "('love', 'you')\n",
      "1\n",
      "('you', 'know')\n",
      "1\n",
      "('know', 'the')\n",
      "3\n",
      "('the', 'rules')\n",
      "1\n",
      "('rules', 'and')\n",
      "1\n"
     ]
    }
   ],
   "source": [
    "# first 10 values of the frequency distribution.\n",
    "for my_bigram in my_bigrams[0:10]:\n",
    "    print(my_bigram)\n",
    "    print(freq_bigrams[my_bigram])"
   ]
  },
  {
   "cell_type": "markdown",
   "id": "d279d136-04a3-4af3-9db0-eeda1b551180",
   "metadata": {},
   "source": [
    "Gerar a distribuição condicional normalizando a distribuição de frequência de unigramas. Neste caso, vamos fazer para a palavra 'strangers' e então classificando os resultados:"
   ]
  },
  {
   "cell_type": "code",
   "execution_count": 21,
   "id": "825b9bc8-44dd-47ec-9d98-c5d29d591100",
   "metadata": {},
   "outputs": [],
   "source": [
    "word=\"strangers\"\n",
    "vocab_probabilities={}\n",
    "for next_word in vocabulary:\n",
    "    vocab_probabilities[next_word]=freq_bigrams[(word,next_word)]/fdist[word]\n",
    "\n",
    "vocab_probabilities=sorted(vocab_probabilities.items(), \n",
    "                           key=lambda x:x[1],reverse=True)"
   ]
  },
  {
   "cell_type": "code",
   "execution_count": 22,
   "id": "deae79ef-3cb4-478c-991f-6e6d91ec6136",
   "metadata": {},
   "outputs": [
    {
     "data": {
      "text/plain": [
       "[('to', 1.0), ('guy', 0.0), ('whats', 0.0), ('were', 0.0)]"
      ]
     },
     "execution_count": 22,
     "metadata": {},
     "output_type": "execute_result"
    }
   ],
   "source": [
    "vocab_probabilities[0:4]"
   ]
  },
  {
   "cell_type": "markdown",
   "id": "4055f27d-03da-442f-9b24-8ddc4b77d09d",
   "metadata": {},
   "source": [
    "Criar uma função para calcular a probabilidade condicional de $W_t$ dado $W_{t-1}$, classifique os resultados e gere-os como uma lista."
   ]
  },
  {
   "cell_type": "code",
   "execution_count": 23,
   "id": "dffe2e84-fc0d-4801-afb3-7b2dc396b1e1",
   "metadata": {},
   "outputs": [],
   "source": [
    "def make_predictions(my_words, freq_grams, normlize=1, vocabulary=vocabulary):\n",
    "    \"\"\"\n",
    "    Generate predictions for the conditional probability of \n",
    "    the next word given a sequence.\n",
    "\n",
    "    Args:\n",
    "        my_words (list): A list of words in the input sequence.\n",
    "        freq_grams (dict): A dictionary containing frequency of n-grams.\n",
    "        normlize (int): A normalization factor for calculating probabilities.\n",
    "        vocabulary (list): A list of words in the vocabulary.\n",
    "\n",
    "    Returns:\n",
    "        list: A list of predicted words along with their probabilities, \n",
    "        sorted in descending order.\n",
    "    \"\"\"\n",
    "    # Initialize a dictionary to store predicted word probabilities\n",
    "    vocab_probabilities = {}  \n",
    "\n",
    "    # Determine the context size from n-grams keys\n",
    "    context_size = len(list(freq_grams.keys())[0])\n",
    "    \n",
    "    # Preprocess input words and take only the relevant context words\n",
    "    my_tokens = preprocess(my_words)[0:context_size - 1]\n",
    "\n",
    "    # Calculate probabilities for each word in the vocabulary given the context\n",
    "    for next_word in vocabulary:\n",
    "        temp = my_tokens.copy()\n",
    "        temp.append(next_word)  # Add the next word to the context\n",
    "\n",
    "        # Calculate the conditional probability using the frequency information\n",
    "        if normlize!=0:\n",
    "            vocab_probabilities[next_word] = freq_grams[tuple(temp)] / normlize\n",
    "        else:\n",
    "            vocab_probabilities[next_word] = freq_grams[tuple(temp)] \n",
    "    # Sort the predicted words based on their probabilities in descending order\n",
    "    vocab_probabilities = sorted(vocab_probabilities.items(), key=lambda x: x[1], reverse=True)\n",
    "\n",
    "    # Return the sorted list of predicted words and their probabilities\n",
    "    return vocab_probabilities  "
   ]
  },
  {
   "cell_type": "markdown",
   "id": "73584ab7-2108-411b-b8b4-9d0063735a7a",
   "metadata": {},
   "source": [
    "Definir $W_{t-1}$ como 'i' e então calcular todos os valores de $P(W_t | W_{t-1}=i)$."
   ]
  },
  {
   "cell_type": "code",
   "execution_count": 24,
   "id": "dba1814d-722a-4489-be89-cdb8b2525df8",
   "metadata": {},
   "outputs": [],
   "source": [
    "my_words=\"are\"\n",
    "\n",
    "vocab_probabilities=make_predictions(my_words,freq_bigrams,normlize=fdist['i'])"
   ]
  },
  {
   "cell_type": "code",
   "execution_count": 25,
   "id": "fbef2f40-a9b1-455c-b7e0-9332e84595a8",
   "metadata": {},
   "outputs": [
    {
     "data": {
      "text/plain": [
       "[('no', 0.3333333333333333),\n",
       " ('guy', 0.0),\n",
       " ('whats', 0.0),\n",
       " ('were', 0.0),\n",
       " ('say', 0.0),\n",
       " ('shy', 0.0),\n",
       " ('rules', 0.0),\n",
       " ('im', 0.0),\n",
       " ('your', 0.0),\n",
       " ('both', 0.0)]"
      ]
     },
     "execution_count": 25,
     "metadata": {},
     "output_type": "execute_result"
    }
   ],
   "source": [
    "vocab_probabilities[0:10]"
   ]
  },
  {
   "cell_type": "markdown",
   "id": "8dc58d31-84c3-4710-b526-a3ea0cd10f7f",
   "metadata": {},
   "source": [
    "A palavra com maior probabilidade, denotada como $\\hat{W}_t$, é dada pelo primeiro elemento da lista, o que pode ser usado como um preenchimento automático simples:"
   ]
  },
  {
   "cell_type": "code",
   "execution_count": 26,
   "id": "370ce9fa-fba4-472f-8138-7717e1d8a47b",
   "metadata": {},
   "outputs": [
    {
     "data": {
      "text/plain": [
       "'no'"
      ]
     },
     "execution_count": 26,
     "metadata": {},
     "output_type": "execute_result"
    }
   ],
   "source": [
    "vocab_probabilities[0][0]"
   ]
  },
  {
   "cell_type": "markdown",
   "id": "240d4384-4d75-456f-a77e-1a20a141fe89",
   "metadata": {},
   "source": [
    "Gerar uma sequência usando o modelo bigram aproveitando a palavra anterior (t-1) para prever e gerar a palavra subsequente na sequência."
   ]
  },
  {
   "cell_type": "code",
   "execution_count": 27,
   "id": "2aa08087-20fa-46cf-bab5-e008c7328a2d",
   "metadata": {},
   "outputs": [],
   "source": [
    "my_song=\"\"\n",
    "for w in tokens[0:100]:\n",
    "  my_word=make_predictions(w,freq_bigrams)[0][0]\n",
    "  my_song+=\" \"+my_word"
   ]
  },
  {
   "cell_type": "code",
   "execution_count": 28,
   "id": "06355180-176a-42c4-bced-68328f3353b1",
   "metadata": {},
   "outputs": [
    {
     "data": {
      "text/plain": [
       "' both no strangers to say you never the game and hurt long i just lie commitments what im feeling of you never get this from any other for i just wan na tell a never im feeling got ta make you never never gon na tell you never never gon na tell you never never gon na tell around and hurt you never gon na tell you never never gon na tell goodbye never gon na tell a lie and hurt you never known each other for so long your hearts been aching but youre too shy to say goodbye'"
      ]
     },
     "execution_count": 28,
     "metadata": {},
     "output_type": "execute_result"
    }
   ],
   "source": [
    "my_song"
   ]
  },
  {
   "cell_type": "markdown",
   "id": "831c867d-256c-407a-977b-56468ef14efb",
   "metadata": {},
   "source": [
    "Criar uma sequência usando o modelo n-gram iniciando o processo com a primeira palavra na sequência e produzindo uma saída inicial. Posteriormente, utilizar essa saída como base para gerar a próxima palavra na sequência, ou seja, dar ao modelo uma palavra, então usará a saída para prever a próxima palavra e repetir."
   ]
  },
  {
   "cell_type": "code",
   "execution_count": 29,
   "id": "0d09b302-c558-45d2-b68c-a966847a8913",
   "metadata": {},
   "outputs": [],
   "source": [
    "my_song=\"i\"\n",
    "\n",
    "for i in range(100):\n",
    "    my_word=make_predictions(my_word,freq_bigrams)[0][0]\n",
    "    my_song+=\" \"+my_word"
   ]
  },
  {
   "cell_type": "code",
   "execution_count": 30,
   "id": "7d1dd6e5-7511-41cc-aa8f-c9401a779c9c",
   "metadata": {},
   "outputs": [
    {
     "data": {
      "text/plain": [
       "'i never gon na tell a lie and hurt you never gon na tell a lie and hurt you never gon na tell a lie and hurt you never gon na tell a lie and hurt you never gon na tell a lie and hurt you never gon na tell a lie and hurt you never gon na tell a lie and hurt you never gon na tell a lie and hurt you never gon na tell a lie and hurt you never gon na tell a lie and hurt you never gon na tell a lie and hurt you never'"
      ]
     },
     "execution_count": 30,
     "metadata": {},
     "output_type": "execute_result"
    }
   ],
   "source": [
    "my_song"
   ]
  },
  {
   "cell_type": "markdown",
   "id": "23dfff1c-7db5-42b2-ba7e-cad9153da5b6",
   "metadata": {},
   "source": [
    "Existem vários desafios associados aos métodos baseados em histogramas, alguns dos quais são bastante diretos. Por exemplo, ao considerar o caso de ter N palavras em seu vocabulário, um modelo Unigram exigiria $N$ bins, enquanto um modelo Bigram resultaria em $N^2$ bins e assim por diante.\n",
    "\n",
    "Os modelos N-gram também enfrentam limitações em termos de compreensão contextual e de sua capacidade de capturar relações complexas entre palavras. Por exemplo, vamos considerar as frases \"I hate dogs\", \"I don’t like dogs\" e \"don’t like means dislike\". Nesse contexto, uma abordagem baseada em histogramas falharia em captar o significado da frase \"don’t like means dislike\", perdendo, assim, a relação semântica essencial que ela representa.\n"
   ]
  },
  {
   "cell_type": "markdown",
   "id": "98339cc0-297a-4cc0-95b9-b4f37c6750a1",
   "metadata": {},
   "source": [
    "### Redes Neurais Feedforward (FNNs) para modelos de linguagem"
   ]
  },
  {
   "cell_type": "markdown",
   "id": "33ce5cb0-e460-45fc-90ad-38d84785c6c8",
   "metadata": {},
   "source": [
    "FNNs, ou Perceptrons Multicamadas, servem como componentes fundamentais para a compreensão de redes neurais no processamento de linguagem natural (NLP). Em tarefas de NLP, os FNNs processam dados textuais transformando-os em vetores numéricos conhecidos como embeddings. Esses embeddings são então inseridos na rede para prever aspectos da linguagem, como a próxima palavra em uma frase ou o sentimento de um texto."
   ]
  },
  {
   "cell_type": "code",
   "execution_count": 31,
   "id": "1324a390-46af-4c63-93b9-59fa23e59b7b",
   "metadata": {},
   "outputs": [],
   "source": [
    "from torchtext.data.utils import get_tokenizer\n",
    "from torchtext.vocab import build_vocab_from_iterator"
   ]
  },
  {
   "cell_type": "markdown",
   "id": "132c610a-3778-42b5-9bad-7dffcb20fac6",
   "metadata": {},
   "source": [
    "### Tokenization for FNN"
   ]
  },
  {
   "cell_type": "markdown",
   "id": "1592393e-bf00-4f61-9722-51062a6156bd",
   "metadata": {},
   "source": [
    "Função do PyTorch usada para obter um tokenizador para o texto"
   ]
  },
  {
   "cell_type": "code",
   "execution_count": 32,
   "id": "06a849f0-ca76-4ce2-b40c-38456fe41629",
   "metadata": {},
   "outputs": [],
   "source": [
    "tokenizer = get_tokenizer('basic_english')\n",
    "tokens = tokenizer(song)"
   ]
  },
  {
   "cell_type": "markdown",
   "id": "0e7623c7-65a9-4a33-b15e-3ef1f6b73726",
   "metadata": {},
   "source": [
    "### Indexing\n",
    "O TorchText fornece ferramentas para tokenizar texto em palavras individuais (tokens) e construir um vocabulário, que mapeia tokens para índices inteiros exclusivos. Esta é uma etapa crucial na preparação de dados de texto para modelos de aprendizado de máquina que exigem entrada numérica."
   ]
  },
  {
   "cell_type": "code",
   "execution_count": 34,
   "id": "9d01288a-b313-443f-bd18-b15cb0e8b471",
   "metadata": {},
   "outputs": [],
   "source": [
    "# Create a vocabulary from text tokens\n",
    "\n",
    "# tokenize the 'song' text using the provided tokenizer.\n",
    "# The map function applies the tokenizer to each word in the 'song' after splitting it.\n",
    "# The result is a list of tokens representing the words in the 'song'.\n",
    "tokenized_song = map(tokenizer, song.split())"
   ]
  },
  {
   "cell_type": "code",
   "execution_count": 37,
   "id": "e4433a56-58cd-48d2-b780-bc37eef7d6d5",
   "metadata": {},
   "outputs": [],
   "source": [
    "# Step 2: Vocabulary Building\n",
    "# The build_vocab_from_iterator function constructs a vocabulary from the tokenized text.\n",
    "# In this case, add a special token \"<unk>\" (unknown token) to handle out-of-vocabulary words.\n",
    "vocab = build_vocab_from_iterator(tokenized_song, specials=[\"<unk>\"])"
   ]
  },
  {
   "cell_type": "code",
   "execution_count": 39,
   "id": "7e85d5f3-fdb1-4636-a7f5-890d6a47fc11",
   "metadata": {},
   "outputs": [],
   "source": [
    "# Step 3: Set Default Index\n",
    "# Set the default index for the vocabulary to the index corresponding to the \"<unk>\" token.\n",
    "# This ensures that any unknown tokens in the future will be mapped to this index.\n",
    "vocab.set_default_index(vocab[\"<unk>\"])"
   ]
  },
  {
   "cell_type": "code",
   "execution_count": 40,
   "id": "a2ef52fc-565d-4ebb-ae09-ab5d89d8920f",
   "metadata": {},
   "outputs": [
    {
     "data": {
      "text/plain": [
       "[21, 58, 70, 74, 25, 69, 2, 20, 31, 72]"
      ]
     },
     "execution_count": 40,
     "metadata": {},
     "output_type": "execute_result"
    }
   ],
   "source": [
    "# Convert the tokens to indices by applying the function as shown \n",
    "vocab(tokens[0:10])"
   ]
  },
  {
   "cell_type": "code",
   "execution_count": 44,
   "id": "d9fbaf53-9472-4c03-8bcd-7bff3887389b",
   "metadata": {},
   "outputs": [],
   "source": [
    "# Write a text function that converts raw text into indexes.\n",
    "text_pipeline = lambda x: vocab(tokenizer(x))"
   ]
  },
  {
   "cell_type": "code",
   "execution_count": 45,
   "id": "fb64f49b-dd1a-413f-9837-eb92f84e7c20",
   "metadata": {},
   "outputs": [
    {
     "data": {
      "text/plain": [
       "[21, 58, 70, 74, 25, 69, 2, 20, 31, 72]"
      ]
     },
     "execution_count": 45,
     "metadata": {},
     "output_type": "execute_result"
    }
   ],
   "source": [
    "text_pipeline(song)[0:10]"
   ]
  },
  {
   "cell_type": "code",
   "execution_count": 46,
   "id": "0ffca0dc-655a-46c4-b208-a3c5595fe5bc",
   "metadata": {},
   "outputs": [
    {
     "data": {
      "text/plain": [
       "'<unk>'"
      ]
     },
     "execution_count": 46,
     "metadata": {},
     "output_type": "execute_result"
    }
   ],
   "source": [
    "# Find the word corresponding to an index using theget_itos()method. \n",
    "# The result is a list where the index of the list corresponds to a word.\n",
    "index_to_token = vocab.get_itos()\n",
    "index_to_token[0]"
   ]
  },
  {
   "cell_type": "markdown",
   "id": "9d245f5a-3683-4f23-830e-a233f57440df",
   "metadata": {},
   "source": [
    "### Camadas de Embedding\n",
    "Uma camada de embedding é um elemento crucial em processamento de linguagem natural (NLP) e em redes neurais projetadas para dados sequenciais. Ela serve para converter variáveis categóricas, como palavras ou índices discretos representando tokens, em vetores contínuos. Essa transformação facilita o treinamento e permite que a rede aprenda relações significativas entre palavras.\n",
    "\n",
    "Vamos considerar um exemplo simples com um vocabulário de palavras:\n",
    "\n",
    "- Vocabulário: {apple, banana, orange, pear}\n",
    "\n",
    "Cada palavra no seu vocabulário tem um índice exclusivo atribuído a ela:\n",
    "- Índices: {0, 1, 2, 3}\n",
    "\n",
    "Ao usar uma camada de embedding, você inicializará vetores contínuos aleatórios para cada índice. Por exemplo, os vetores de embedding podem ser algo como:\n",
    "\n",
    "- Vector for index 0 (apple): [0.2, 0.8]\n",
    "- Vector for index 1 (banana): [0.6, -0.5]\n",
    "- Vector for index 2 (orange): [-0.3, 0.7]\n",
    "- Vector for index 3 (pear): [0.1, 0.4]ão."
   ]
  },
  {
   "cell_type": "code",
   "execution_count": 47,
   "id": "e2381c24-c960-468d-b9b4-095ce59a5a36",
   "metadata": {},
   "outputs": [],
   "source": [
    "embedding_dim = 0\n",
    "vocab_size = len(vocab)\n",
    "embeddings = nn.Embedding(vocab_size, embedding_dim)"
   ]
  },
  {
   "cell_type": "code",
   "execution_count": 48,
   "id": "025b5216-e781-4d70-99db-866b9b4eb6e7",
   "metadata": {},
   "outputs": [
    {
     "data": {
      "text/plain": [
       "Embedding(79, 0)"
      ]
     },
     "execution_count": 48,
     "metadata": {},
     "output_type": "execute_result"
    }
   ],
   "source": [
    "embeddings"
   ]
  },
  {
   "cell_type": "markdown",
   "id": "281369d6-0a1d-483f-897c-f10f4cec6a8c",
   "metadata": {},
   "source": [
    "**Embeddings:** Obtenha o embedding para a primeira palavra com índice 0 ou 1. Não se esqueça de que você tem que converter a entrada em um tensor. Os embeddings são inicialmente inicializados aleatoriamente, mas conforme o modelo passa pelo treinamento, palavras com significados semelhantes gradualmente se agrupam mais próximas"
   ]
  },
  {
   "cell_type": "code",
   "execution_count": 49,
   "id": "17320d85-e618-4d5f-9bdd-3b8bba51398d",
   "metadata": {},
   "outputs": [
    {
     "name": "stdout",
     "output_type": "stream",
     "text": [
      "word <unk>\n",
      "index 0\n",
      "embedding tensor([], grad_fn=<EmbeddingBackward0>)\n",
      "embedding shape torch.Size([0])\n",
      "word gonna\n",
      "index 1\n",
      "embedding tensor([], grad_fn=<EmbeddingBackward0>)\n",
      "embedding shape torch.Size([0])\n"
     ]
    }
   ],
   "source": [
    "for n in range(2):\n",
    "    embedding = embeddings(torch.tensor(n))\n",
    "    print('word', index_to_token[n])\n",
    "    print('index', n)\n",
    "    print('embedding', embedding)\n",
    "    print('embedding shape', embedding.shape)"
   ]
  },
  {
   "cell_type": "markdown",
   "id": "d5635d9b-2055-4389-a1a2-9db915374b5e",
   "metadata": {},
   "source": [
    "Esses vetores servirão como entradas para a próxima camada."
   ]
  },
  {
   "cell_type": "markdown",
   "id": "c39f5c05-628f-4b56-bd5e-b5d65ad5ca09",
   "metadata": {},
   "source": [
    "### Gerando pares contexto-alvo (n-gramas)\n",
    "Organize palavras dentro de um contexto de tamanho variável usando a seguinte abordagem: Cada palavra é denotada por 'i'. Para estabelecer o contexto, simplesmente subtraia 'j'. O tamanho do contexto é determinado pelo valor de CONTEXT_SIZE."
   ]
  },
  {
   "cell_type": "code",
   "execution_count": 50,
   "id": "73fa6758-92e3-4178-96b3-7c5eb33be23f",
   "metadata": {},
   "outputs": [],
   "source": [
    "CONTEXT_SIZE = 2\n",
    "\n",
    "ngrams = [\n",
    "    (\n",
    "        [tokens[i - j - 1] for j in range(CONTEXT_SIZE)],\n",
    "        tokens[i]\n",
    "    )\n",
    "    for i in range(CONTEXT_SIZE, len(tokens))\n",
    "]"
   ]
  },
  {
   "cell_type": "markdown",
   "id": "b6a991ba-3170-4fba-8305-0e22990c86b3",
   "metadata": {},
   "source": [
    "Produza o primeiro elemento, que resulta em uma tupla. O elemento inicial representa o contexto, e o índice indica a palavra seguinte."
   ]
  },
  {
   "cell_type": "code",
   "execution_count": 51,
   "id": "960dccb1-39dd-456a-879a-71dca4e323e4",
   "metadata": {},
   "outputs": [
    {
     "name": "stdout",
     "output_type": "stream",
     "text": [
      "context ['are', 'we'] target no\n",
      "context index [58, 21] target index [70]\n"
     ]
    }
   ],
   "source": [
    "context, target = ngrams[0]\n",
    "print('context', context, 'target', target)\n",
    "print('context index', vocab(context), 'target index', vocab([target]))"
   ]
  },
  {
   "cell_type": "markdown",
   "id": "5dc066b2-b0f0-4812-ac43-afd3c9a7cab3",
   "metadata": {},
   "source": [
    "Neste contexto, há várias palavras. Agregue os embeddings de cada uma dessas palavras e então ajuste o tamanho de entrada da camada subsequente de acordo. Então, crie a próxima camada."
   ]
  },
  {
   "cell_type": "code",
   "execution_count": 52,
   "id": "e86785ac-26a6-4642-ac74-0db15fbb4847",
   "metadata": {},
   "outputs": [],
   "source": [
    "linear = nn.Linear(embedding_dim * CONTEXT_SIZE, 128)"
   ]
  },
  {
   "cell_type": "code",
   "execution_count": 57,
   "id": "909e7a43-f577-4553-b3c8-563f477ab370",
   "metadata": {},
   "outputs": [],
   "source": [
    "my_embeddings = embeddings(torch.tensor(vocab(context)))"
   ]
  },
  {
   "cell_type": "code",
   "execution_count": 59,
   "id": "5745f26f-8abc-4bb2-91dc-8428f630b1ee",
   "metadata": {},
   "outputs": [
    {
     "data": {
      "text/plain": [
       "torch.Size([2, 0])"
      ]
     },
     "execution_count": 59,
     "metadata": {},
     "output_type": "execute_result"
    }
   ],
   "source": [
    "#  two embeddings\n",
    "my_embeddings.shape"
   ]
  },
  {
   "cell_type": "code",
   "execution_count": 60,
   "id": "6b4b0f4d-c659-4407-8783-4a24c9f0c1ff",
   "metadata": {},
   "outputs": [
    {
     "data": {
      "text/plain": [
       "torch.Size([1, 0])"
      ]
     },
     "execution_count": 60,
     "metadata": {},
     "output_type": "execute_result"
    }
   ],
   "source": [
    "# Reshape the embeddings\n",
    "my_embeddings = my_embeddings.reshape(1, -1)\n",
    "my_embeddings.shape"
   ]
  },
  {
   "cell_type": "code",
   "execution_count": 61,
   "id": "4dcc5f3d-cf14-4e72-9b3e-212b7849fc28",
   "metadata": {},
   "outputs": [
    {
     "data": {
      "text/plain": [
       "tensor([[0., 0., 0., 0., 0., 0., 0., 0., 0., 0., 0., 0., 0., 0., 0., 0., 0., 0., 0., 0., 0., 0., 0., 0.,\n",
       "         0., 0., 0., 0., 0., 0., 0., 0., 0., 0., 0., 0., 0., 0., 0., 0., 0., 0., 0., 0., 0., 0., 0., 0.,\n",
       "         0., 0., 0., 0., 0., 0., 0., 0., 0., 0., 0., 0., 0., 0., 0., 0., 0., 0., 0., 0., 0., 0., 0., 0.,\n",
       "         0., 0., 0., 0., 0., 0., 0., 0., 0., 0., 0., 0., 0., 0., 0., 0., 0., 0., 0., 0., 0., 0., 0., 0.,\n",
       "         0., 0., 0., 0., 0., 0., 0., 0., 0., 0., 0., 0., 0., 0., 0., 0., 0., 0., 0., 0., 0., 0., 0., 0.,\n",
       "         0., 0., 0., 0., 0., 0., 0., 0.]], grad_fn=<AddmmBackward0>)"
      ]
     },
     "execution_count": 61,
     "metadata": {},
     "output_type": "execute_result"
    }
   ],
   "source": [
    "#  Used as inputs in the next layer\n",
    "linear(my_embeddings)"
   ]
  },
  {
   "cell_type": "markdown",
   "id": "985f4837-d5ca-429e-9bef-5f25ef9368e7",
   "metadata": {},
   "source": [
    "### Função Batch\n",
    "Criar uma função Batch para interagir com o carregador de dados. Vários ajustes são necessários para lidar com palavras que são parte de um contexto em um lote e uma palavra prevista no lote seguinte."
   ]
  },
  {
   "cell_type": "code",
   "execution_count": 62,
   "id": "3736ee44-fea7-483b-b2b6-3e475f0ce96d",
   "metadata": {},
   "outputs": [],
   "source": [
    "from torch.utils.data import DataLoader"
   ]
  },
  {
   "cell_type": "code",
   "execution_count": 63,
   "id": "5192d85e-e1a1-496a-bd56-5d6a68c9592b",
   "metadata": {},
   "outputs": [
    {
     "data": {
      "text/plain": [
       "device(type='cpu')"
      ]
     },
     "execution_count": 63,
     "metadata": {},
     "output_type": "execute_result"
    }
   ],
   "source": [
    "device = torch.device(\"cuda\" if torch.cuda.is_available() else \"cpu\")\n",
    "device"
   ]
  },
  {
   "cell_type": "code",
   "execution_count": 64,
   "id": "21490b54-c656-4eb2-aa9d-d8252242ba37",
   "metadata": {},
   "outputs": [],
   "source": [
    "CONTEXT_SIZE=3\n",
    "BATCH_SIZE=10\n",
    "EMBEDDING_DIM = 10"
   ]
  },
  {
   "cell_type": "code",
   "execution_count": 66,
   "id": "0a5351d3-d736-4cea-b074-553adf2cf385",
   "metadata": {},
   "outputs": [],
   "source": [
    "def collate_batch(batch):\n",
    "    batch_size=len(batch)\n",
    "    context, target=[],[]\n",
    "    for i in range(CONTEXT_SIZE,batch_size):\n",
    "        target.append(vocab([batch[i]]))\n",
    "        context.append(vocab([batch[i-j-1] for j in range(CONTEXT_SIZE)]))\n",
    "\n",
    "    return torch.tensor(context).to(device),  torch.tensor(target).to(device).reshape(-1)"
   ]
  },
  {
   "cell_type": "markdown",
   "id": "89554bd6-2413-475f-ae9b-1ada22e70b76",
   "metadata": {},
   "source": [
    "Da mesma forma, é importante destacar que o tamanho do último batch pode diferir dos batches anteriores. Para lidar com isso, a abordagem envolve ajustar o batch final para se conformar ao tamanho especificado, garantindo que ele seja um múltiplo do tamanho predeterminado. Quando necessário, você usará técnicas de preenchimento (padding) para alcançar essa harmonização. Uma das abordagens que você usará é adicionar o início da música ao final do batch."
   ]
  },
  {
   "cell_type": "code",
   "execution_count": 67,
   "id": "a5ced8a0-0552-434c-b8a2-8bf3e935077e",
   "metadata": {},
   "outputs": [],
   "source": [
    "Padding = BATCH_SIZE-len(tokens) % BATCH_SIZE\n",
    "tokens_pad = tokens+tokens[0:Padding]"
   ]
  },
  {
   "cell_type": "code",
   "execution_count": 68,
   "id": "fa591d4b-5b02-4839-9fed-f8e4d5cd6a83",
   "metadata": {},
   "outputs": [],
   "source": [
    "# Create the DataLoader.\n",
    "dataloader = DataLoader(\n",
    "    tokens_pad,\n",
    "    batch_size=BATCH_SIZE,\n",
    "    shuffle = False,\n",
    "    collate_fn=collate_batch\n",
    ")"
   ]
  },
  {
   "cell_type": "markdown",
   "id": "9282c370-1516-4dbe-a8c7-7de3b44f4904",
   "metadata": {},
   "source": [
    "### Rede Neural Multiclasse\n",
    "Foi desenvolvida uma classe no PyTorch para uma rede neural multiclasse. A saída da rede é a probabilidade da próxima palavra dentro de um determinado contexto. Assim, o número de classes corresponde à quantidade de palavras distintas. A camada inicial consiste em embeddings, e, além da camada final, uma camada oculta adicional é incorporada."
   ]
  },
  {
   "cell_type": "code",
   "execution_count": 69,
   "id": "d6e29b5e-965c-438a-a957-a6b114b8fe29",
   "metadata": {},
   "outputs": [],
   "source": [
    "class NGramLanguageModeler(nn.Module):\n",
    "\n",
    "    def __init__(self, vocab_size, embedding_dim, context_size):\n",
    "        super(NGramLanguageModeler, self).__init__()\n",
    "        self.context_size=context_size\n",
    "        self.embedding_dim=embedding_dim\n",
    "        self.embeddings = nn.Embedding(vocab_size, embedding_dim)\n",
    "        self.linear1 = nn.Linear(context_size * embedding_dim, 128)\n",
    "        self.linear2 = nn.Linear(128, vocab_size)\n",
    "\n",
    "    def forward(self, inputs):\n",
    "        embeds = self.embeddings(inputs)\n",
    "        embeds=torch.reshape( embeds, (-1,self.context_size * self.embedding_dim))\n",
    "        out = F.relu(self.linear1(embeds))\n",
    "        out = self.linear2(out)\n",
    "\n",
    "        return out"
   ]
  },
  {
   "cell_type": "code",
   "execution_count": 70,
   "id": "200a3056-aa85-44cd-8e89-727bddab94c4",
   "metadata": {},
   "outputs": [],
   "source": [
    "# Create a model\n",
    "model = NGramLanguageModeler(len(vocab), EMBEDDING_DIM, CONTEXT_SIZE).to(device)"
   ]
  },
  {
   "cell_type": "code",
   "execution_count": 72,
   "id": "cd6d4e76-6f3a-4bae-b056-4980966f5c44",
   "metadata": {},
   "outputs": [],
   "source": [
    "# Retrieve samples from the data loader object and input them into the neural network.\n",
    "context, target = next(iter(dataloader))\n",
    "out = model(context)"
   ]
  },
  {
   "cell_type": "markdown",
   "id": "883c2c54-d0ef-4bd2-9e61-61c57b45d60c",
   "metadata": {},
   "source": [
    "Enquanto o modelo permanece sem treinamento, analisar a saída pode nos fornecer um entendimento mais claro. Na saída, a primeira dimensão corresponde ao tamanho do lote, enquanto a segunda dimensão representa a probabilidade associada a cada classe."
   ]
  },
  {
   "cell_type": "code",
   "execution_count": 73,
   "id": "83e4af8e-c76e-46f3-9aac-026883f58b1e",
   "metadata": {},
   "outputs": [
    {
     "data": {
      "text/plain": [
       "torch.Size([7, 79])"
      ]
     },
     "execution_count": 73,
     "metadata": {},
     "output_type": "execute_result"
    }
   ],
   "source": [
    "out.shape"
   ]
  },
  {
   "cell_type": "code",
   "execution_count": 74,
   "id": "fb3a04f4-424c-4bf9-920b-7869cb868dd0",
   "metadata": {},
   "outputs": [
    {
     "data": {
      "text/plain": [
       "tensor([21, 49, 71, 47, 14, 40,  5])"
      ]
     },
     "execution_count": 74,
     "metadata": {},
     "output_type": "execute_result"
    }
   ],
   "source": [
    "# Find the index with the highest probability\n",
    "predicted_index = torch.argmax(out,1)\n",
    "predicted_index"
   ]
  },
  {
   "cell_type": "code",
   "execution_count": 75,
   "id": "578df79e-8e59-418b-8d01-b3fc2bb72d30",
   "metadata": {},
   "outputs": [
    {
     "data": {
      "text/plain": [
       "['we', 'play', 'of', 'me', 'goodbye', 'going', 'tell']"
      ]
     },
     "execution_count": 75,
     "metadata": {},
     "output_type": "execute_result"
    }
   ],
   "source": [
    "# Find the corresponding token\n",
    "[index_to_token[i.item()] for i in  predicted_index]"
   ]
  },
  {
   "cell_type": "code",
   "execution_count": 76,
   "id": "259c7233-eabb-4823-9276-b1b6560dd3bc",
   "metadata": {},
   "outputs": [],
   "source": [
    "# Create a function that accomplishes the same task for the tokens\n",
    "def write_song(model,number_of_words=100):\n",
    "    my_song=\"\"\n",
    "    for i in range(number_of_words):\n",
    "        with torch.no_grad():\n",
    "            context=torch.tensor(vocab([tokens[i-j-1] for j in range(CONTEXT_SIZE)])).to(device)\n",
    "            word_inx=torch.argmax(model(context))\n",
    "            my_song+=\" \"+index_to_token[word_inx.detach().item()]\n",
    "\n",
    "    return my_song"
   ]
  },
  {
   "cell_type": "code",
   "execution_count": 77,
   "id": "ebf4cf93-427f-48a2-8640-846659f5cf2d",
   "metadata": {},
   "outputs": [
    {
     "data": {
      "text/plain": [
       "' goodbye too whats we play of me goodbye going tell goodbye wouldnt <unk> goodbye goodbye lie around say goodbye tell shy love goodbye of goodbye we say wanna of never say run goodbye of this goodbye tell a wanna lie love to around goodbye on goodbye lie goodbye lie wouldnt goodbye rules how goodbye if goodbye on love get goodbye lie been goodbye of lie goodbye lie gotta say goodbye to on any love this goodbye goodbye this lie we goodbye run goodbye too lie run goodbye lie rules love of how full around of play lie rules lie goodbye'"
      ]
     },
     "execution_count": 77,
     "metadata": {},
     "output_type": "execute_result"
    }
   ],
   "source": [
    "write_song(model)"
   ]
  },
  {
   "cell_type": "markdown",
   "id": "ae4bcbd4-944c-40e3-8035-c656752bac1a",
   "metadata": {},
   "source": [
    "### Treinamento\n",
    "Treinar um modelo de linguagem envolve um processo em várias etapas que utiliza dados de treinamento e teste para otimizar o desempenho do modelo. No campo do Processamento de Linguagem Natural (NLP), esse processo costuma empregar várias métricas para avaliar a precisão do modelo, como perplexidade ou acurácia em dados não vistos. No entanto, no contexto da exploração atual, vamos seguir um caminho diferente. Em vez de depender exclusivamente de métricas convencionais de NLP, o foco se volta para a inspeção manual dos resultados.\n"
   ]
  },
  {
   "cell_type": "code",
   "execution_count": 78,
   "id": "e10bbbde-ce95-458e-bdc4-89190d50887f",
   "metadata": {},
   "outputs": [],
   "source": [
    "# cross entropy loss between input logits and target\n",
    "criterion = torch.nn.CrossEntropyLoss()"
   ]
  },
  {
   "cell_type": "markdown",
   "id": "71533923-c562-433a-aaf0-15bac952d301",
   "metadata": {},
   "source": [
    "Criar uma função dedicada a treinar o modelo usando o carregador de dados fornecido. Além de treinar o modelo, a saída da função inclui previsões para cada época, abrangendo o contexto para as próximas 100 palavras."
   ]
  },
  {
   "cell_type": "code",
   "execution_count": 79,
   "id": "611844e3-3543-4204-ba93-cf07b91f958e",
   "metadata": {},
   "outputs": [],
   "source": [
    "def train(dataloader, model, number_of_epochs=100, show=10):\n",
    "    \"\"\"\n",
    "    Args:\n",
    "        dataloader (DataLoader): DataLoader containing training data.\n",
    "        model (nn.Module): Neural network model to be trained.\n",
    "        number_of_epochs (int, optional): Number of epochs for training. Default is 100.\n",
    "        show (int, optional): Interval for displaying progress. Default is 10.\n",
    "\n",
    "    Returns:\n",
    "        list: List containing loss values for each epoch.\n",
    "    \"\"\"\n",
    "\n",
    "    MY_LOSS = []  # List to store loss values for each epoch\n",
    "\n",
    "    # Iterate over the specified number of epochs\n",
    "    for epoch in tqdm(range(number_of_epochs)):\n",
    "        total_loss = 0  # Initialize total loss for the current epoch\n",
    "        my_song = \"\"    # Initialize a string to store the generated song\n",
    "\n",
    "        # Iterate over batches in the dataloader\n",
    "        for context, target in dataloader:\n",
    "            model.zero_grad()          # Zero the gradients to avoid accumulation\n",
    "            predicted = model(context)  # Forward pass through the model to get predictions\n",
    "            loss = criterion(predicted, target.reshape(-1))  # Calculate the loss\n",
    "            total_loss += loss.item()   # Accumulate the loss\n",
    "\n",
    "            loss.backward()    # Backpropagation to compute gradients\n",
    "            optimizer.step()   # Update model parameters using the optimizer\n",
    "\n",
    "        # Display progress and generate song at specified intervals\n",
    "        if epoch % show == 0:\n",
    "            my_song += write_song(model)  # Generate song using the model\n",
    "\n",
    "            print(\"Generated Song:\")\n",
    "            print(\"\\n\")\n",
    "            print(my_song)\n",
    "\n",
    "        MY_LOSS.append(total_loss/len(dataloader))  # Append the total loss for the epoch to MY_LOSS list\n",
    "\n",
    "    return MY_LOSS  # Return the list of  mean loss values for each epoch"
   ]
  },
  {
   "cell_type": "code",
   "execution_count": 80,
   "id": "9636cc5f-1bf8-46ee-9252-ad03b27bfd88",
   "metadata": {},
   "outputs": [],
   "source": [
    "# The following list will be used to store the loss for each model\n",
    "my_loss_list=[]"
   ]
  },
  {
   "cell_type": "markdown",
   "id": "45491924-047d-45a4-b5fb-fe13890eddc7",
   "metadata": {},
   "source": [
    "Este segmento de código inicializa um modelo de linguagem n-gram com um tamanho de contexto de 2. O modelo `model_2`, é configurado com base no tamanho do vocabulário fornecido, dimensão de incorporação e tamanho do contexto. O otimizador Stochastic Gradient Descent (SGD) é empregado com uma taxa de aprendizado de 0.01 para gerenciar atualizações de parâmetros do modelo. Um agendador de taxa de aprendizado, usando uma abordagem passo a passo com um fator de redução de 0.1 por época, é configurado para adaptar a taxa de aprendizado durante o processo de treinamento. Essas configurações estabelecem coletivamente a estrutura para treinar o modelo de linguagem n-gram com otimização personalizada e ajuste de taxa de aprendizado."
   ]
  },
  {
   "cell_type": "code",
   "execution_count": 81,
   "id": "3718e680-c4d1-4251-9f04-a60b1de08425",
   "metadata": {},
   "outputs": [],
   "source": [
    "# Define the context size for the n-gram model\n",
    "CONTEXT_SIZE = 2\n",
    "\n",
    "# Create an instance of the NGramLanguageModeler class with specified parameters\n",
    "model_2 = NGramLanguageModeler(len(vocab), EMBEDDING_DIM, CONTEXT_SIZE).to(device)\n",
    "\n",
    "# Define the optimizer for training the model, using stochastic gradient descent (SGD)\n",
    "optimizer = optim.SGD(model_2.parameters(), lr=0.01)\n",
    "\n",
    "# Set up a learning rate scheduler using StepLR to adjust the learning rate during training\n",
    "scheduler = torch.optim.lr_scheduler.StepLR(optimizer, step_size=1.0, gamma=0.1)"
   ]
  },
  {
   "cell_type": "code",
   "execution_count": 84,
   "id": "1b8746ca-ca6f-4a1e-ac58-8360ebde36e0",
   "metadata": {},
   "outputs": [
    {
     "name": "stderr",
     "output_type": "stream",
     "text": [
      " 10%|████████                                                                         | 10/100 [00:00<00:01, 45.99it/s]"
     ]
    },
    {
     "name": "stdout",
     "output_type": "stream",
     "text": [
      "Generated Song:\n",
      "\n",
      "\n",
      " and gonna never me <unk> im it and it it blind gonna if it guy no and it the it me guy and from gonna never this gonna <unk> for the never weve guy so gonna full gonna the me so never gonna from around and gonna and from get gonna never gonna from <unk> gonna gonna it no gonna from gonna so gonna and from guy never from from the ask <unk> gonna and and never guy and so so hearts thinking me get the it guy it and gonna me the this gonna gonna and it it gonna\n",
      "Generated Song:\n",
      "\n",
      "\n",
      " never never you gonna you never you gonna never never never you you you never never and you never gonna you you you never gonna you never tell never never never never gonna you never never you you you you never never gonna tell you you never gonna tell you you never gonna tell you you you you never gonna tell you never never gonna tell you never gonna tell you never and you you never never you you never never you you never you you you you you gonna never you you never you you you you never you\n"
     ]
    },
    {
     "name": "stderr",
     "output_type": "stream",
     "text": [
      " 25%|████████████████████▎                                                            | 25/100 [00:00<00:01, 40.81it/s]"
     ]
    },
    {
     "name": "stdout",
     "output_type": "stream",
     "text": [
      "Generated Song:\n",
      "\n",
      "\n",
      " never never you you you never you and never never tell you you you never never and you never around tell you and never gonna you never tell around and never never tell you never never you you you you never never gonna tell you up never gonna tell you down never gonna tell around and you you never gonna tell you never never gonna tell you never gonna tell you never and hurt you never never each you never and make you and been you you and you and never you you never tell you you never never you\n"
     ]
    },
    {
     "name": "stderr",
     "output_type": "stream",
     "text": [
      " 35%|████████████████████████████▎                                                    | 35/100 [00:00<00:01, 43.20it/s]"
     ]
    },
    {
     "name": "stdout",
     "output_type": "stream",
     "text": [
      "Generated Song:\n",
      "\n",
      "\n",
      " cry never you strangers you never you and never never tell hurt you you never never and you never feeling tell you and never gonna you never tell around and never never tell you never never feeling you make you cry never gonna tell you up never gonna tell you down never gonna tell around and you you never gonna tell you cry never gonna tell you never gonna tell a lie and hurt you cry never each other never and make you and been you you and too and never you a never tell you you never been been\n"
     ]
    },
    {
     "name": "stderr",
     "output_type": "stream",
     "text": [
      " 46%|█████████████████████████████████████▎                                           | 46/100 [00:01<00:01, 44.72it/s]"
     ]
    },
    {
     "name": "stdout",
     "output_type": "stream",
     "text": [
      "Generated Song:\n",
      "\n",
      "\n",
      " cry never you strangers to love you and never never tell hurt you you never lie and you never feeling tell you know never gonna you never tell around and never never tell you never never feeling gotta make you cry never gonna tell you up never gonna tell you down never gonna tell around and desert you never gonna tell you cry never gonna tell goodbye never gonna tell a lie and hurt you cry never each other for and make you hearts been aching you and too shy never you goodbye never tell you know never been going\n"
     ]
    },
    {
     "name": "stderr",
     "output_type": "stream",
     "text": [
      " 57%|██████████████████████████████████████████████▏                                  | 57/100 [00:01<00:00, 46.51it/s]"
     ]
    },
    {
     "name": "stdout",
     "output_type": "stream",
     "text": [
      "Generated Song:\n",
      "\n",
      "\n",
      " cry never no strangers to love you and never game tell hurt you you never lie and you never feeling tell you know never gonna you never tell around and never i tell you never im feeling gotta make you cry never gonna tell you up never gonna tell you down never gonna tell around and desert you never gonna tell you cry never gonna tell goodbye never gonna tell a lie and hurt you cry never each other for and make you hearts been aching but and too shy to you goodbye never we both know never been going\n"
     ]
    },
    {
     "name": "stderr",
     "output_type": "stream",
     "text": [
      " 67%|██████████████████████████████████████████████████████▎                          | 67/100 [00:01<00:00, 45.99it/s]"
     ]
    },
    {
     "name": "stdout",
     "output_type": "stream",
     "text": [
      "Generated Song:\n",
      "\n",
      "\n",
      " cry never no strangers to love you know never game love hurt you i never lie and you never feeling tell you know never gonna you never tell around and never i tell you how im feeling gotta make you cry never gonna tell you up never gonna tell you down never gonna tell around and desert you never gonna tell you cry never gonna tell goodbye never gonna tell a lie and hurt you cry known each other for and make your hearts been aching but and too shy to love goodbye inside we both know the been going\n"
     ]
    },
    {
     "name": "stderr",
     "output_type": "stream",
     "text": [
      " 78%|███████████████████████████████████████████████████████████████▏                 | 78/100 [00:01<00:00, 45.63it/s]"
     ]
    },
    {
     "name": "stdout",
     "output_type": "stream",
     "text": [
      "Generated Song:\n",
      "\n",
      "\n",
      " weve never no strangers to love you know never game love hurt you i never lie and to never feeling tell you know im gonna you any tell around and never i tell you how im feeling gotta make you cry never gonna tell you up never gonna tell you down never gonna tell around and desert you never gonna tell you cry never gonna tell goodbye never gonna tell a lie and hurt you weve known each other for and love your hearts been aching but and too shy to love goodbye inside we both know whats been going\n"
     ]
    },
    {
     "name": "stderr",
     "output_type": "stream",
     "text": [
      " 89%|████████████████████████████████████████████████████████████████████████         | 89/100 [00:01<00:00, 45.22it/s]"
     ]
    },
    {
     "name": "stdout",
     "output_type": "stream",
     "text": [
      "Generated Song:\n",
      "\n",
      "\n",
      " weve never no strangers to love you know never game love hurt you i never lie and to never feeling tell you know get this you any tell around i never i tell you how im feeling gotta make you cry never gonna tell you up never gonna tell you down never gonna tell around and desert you never gonna tell you cry never gonna tell goodbye never gonna tell a lie and hurt you weve known each other for and love your hearts been aching but youre too shy to love goodbye inside we both know whats been going\n"
     ]
    },
    {
     "name": "stderr",
     "output_type": "stream",
     "text": [
      "100%|████████████████████████████████████████████████████████████████████████████████| 100/100 [00:02<00:00, 44.86it/s]"
     ]
    },
    {
     "name": "stdout",
     "output_type": "stream",
     "text": [
      "Generated Song:\n",
      "\n",
      "\n",
      " never are no strangers to love you know never game love hurt do i a full and to never feeling tell you know get this you any other guy i never i tell you how im feeling gotta make you cry never gonna tell you up never gonna tell you down never gonna tell around and desert you never gonna tell you cry never gonna tell goodbye never gonna tell a lie and hurt you never known each other for so love your hearts been aching but youre too shy to love goodbye inside we both know whats been going\n"
     ]
    },
    {
     "name": "stderr",
     "output_type": "stream",
     "text": [
      "\n"
     ]
    }
   ],
   "source": [
    "# Train the model\n",
    "my_loss=train(dataloader,model_2)"
   ]
  },
  {
   "cell_type": "code",
   "execution_count": 85,
   "id": "000be19c-6d9b-4831-bb3c-d28b3166b40e",
   "metadata": {},
   "outputs": [],
   "source": [
    "# Save the model\n",
    "save_path = '2gram.pth'\n",
    "torch.save(model_2.state_dict(), save_path)\n",
    "my_loss_list.append(my_loss)"
   ]
  },
  {
   "cell_type": "markdown",
   "id": "858645fa-d798-4e7b-8076-f433d31c79fd",
   "metadata": {},
   "source": [
    "O código fornecido abaixo mostra embeddings de palavras do modelo criado, reduz sua dimensionalidade para 2D usando t-SNE e, em seguida, os plota como um gráfico de dispersão. Além disso, ele anota os primeiros 20 pontos na visualização com suas palavras correspondentes. Isso é usado para visualizar como palavras semelhantes se agrupam em um espaço de menor dimensão, revelando a estrutura dos embeddings de palavras. Os embeddings permitem que o modelo represente palavras em um espaço vetorial contínuo, capturando relacionamentos semânticos e similaridades entre palavras."
   ]
  },
  {
   "cell_type": "code",
   "execution_count": 86,
   "id": "cef89228-2d4e-46f4-a633-3605d46825ab",
   "metadata": {},
   "outputs": [
    {
     "data": {
      "image/png": "[encoded data removed]",
      "text/plain": [
       "<Figure size 640x480 with 1 Axes>"
      ]
     },
     "metadata": {},
     "output_type": "display_data"
    }
   ],
   "source": [
    "X = model_2.embeddings.weight.cpu().detach().numpy()\n",
    "tsne = TSNE(n_components=2, random_state=42)\n",
    "X_2d = tsne.fit_transform(X)\n",
    "\n",
    "labels = []\n",
    "\n",
    "for j in range(len(X_2d)):\n",
    "    if j < 20:\n",
    "        plt.scatter(X_2d[j, 0], X_2d[j, 1], label=index_to_token[j])\n",
    "        labels.append(index_to_token[j])\n",
    "        # Add words as annotations\n",
    "        plt.annotate(index_to_token[j],\n",
    "                     (X_2d[j, 0], X_2d[j, 1]),\n",
    "                     textcoords=\"offset points\",\n",
    "                     xytext=(0, 10),\n",
    "                     ha='center')\n",
    "    else:\n",
    "        plt.scatter(X_2d[j, 0], X_2d[j, 1])\n",
    "\n",
    "plt.legend(labels, loc='upper left', bbox_to_anchor=(1, 1))\n",
    "plt.show()"
   ]
  },
  {
   "cell_type": "markdown",
   "id": "aee3e392-8226-4a1d-97b8-3cd858c99ee8",
   "metadata": {},
   "source": [
    "### Context 4"
   ]
  },
  {
   "cell_type": "code",
   "execution_count": 87,
   "id": "9d649f1a-a1fa-48a3-af50-5c3a815173a8",
   "metadata": {},
   "outputs": [
    {
     "name": "stderr",
     "output_type": "stream",
     "text": [
      "  9%|███████▍                                                                          | 9/100 [00:00<00:02, 42.81it/s]"
     ]
    },
    {
     "name": "stdout",
     "output_type": "stream",
     "text": [
      "Generated Song:\n",
      "\n",
      "\n",
      " never feeling you get blind ask you the never were you been never never both never you never each guy around you the never you were never you do never never never blind just never you never never never you weve no gonna you you never ask blind never never never never both you you never never you never never you you never guy gonna say you never game never you never you never for never never commitments i say never guy never never you to never never dont never gonna never around the run gonna weve never you you\n"
     ]
    },
    {
     "name": "stderr",
     "output_type": "stream",
     "text": [
      " 20%|████████████████▏                                                                | 20/100 [00:00<00:01, 45.56it/s]"
     ]
    },
    {
     "name": "stdout",
     "output_type": "stream",
     "text": [
      "Generated Song:\n",
      "\n",
      "\n",
      " never never gonna you never you you never never gonna you gonna you never never gonna you gonna you you you you never never you you you you you never never never gonna you never never gonna you never you gonna never gonna you you never never gonna you you never never gonna you you never gonna you never gonna gonna you never never gonna you you never gonna tell you never gonna gonna you never never gonna you you never gonna you gonna gonna you you never never never gonna you you never gonna gonna never never gonna you\n"
     ]
    },
    {
     "name": "stderr",
     "output_type": "stream",
     "text": [
      " 30%|████████████████████████▎                                                        | 30/100 [00:00<00:01, 44.10it/s]"
     ]
    },
    {
     "name": "stdout",
     "output_type": "stream",
     "text": [
      "Generated Song:\n",
      "\n",
      "\n",
      " never never gonna say to you you down never gonna you gonna say a never gonna and gonna you you you you up never you you you you know never never never make a never im gonna gotta make you up never gonna you you up never gonna let you down never gonna make around and desert you never gonna make you up never gonna say goodbye never gonna tell a never and tell you never never gonna other you never gonna you gonna gonna you you tell too shy gonna you you never gonna gonna know never been going\n"
     ]
    },
    {
     "name": "stderr",
     "output_type": "stream",
     "text": [
      " 35%|████████████████████████████▎                                                    | 35/100 [00:00<00:01, 44.18it/s]"
     ]
    },
    {
     "name": "stdout",
     "output_type": "stream",
     "text": [
      "Generated Song:\n",
      "\n",
      "\n",
      " never and gonna say to you you know never gonna you gonna say a a lie and shy im im you you up never you other to you know never never never to a never im feeling gotta make you up never gonna you you up never gonna let you down never gonna run around and desert you never gonna make you up never gonna say goodbye never gonna tell a lie and hurt you never known each other for never gonna you gonna gonna aching you youre too shy to you you never gonna both know whats been going\n"
     ]
    },
    {
     "name": "stderr",
     "output_type": "stream",
     "text": [
      " 46%|█████████████████████████████████████▎                                           | 46/100 [00:01<00:01, 44.68it/s]"
     ]
    },
    {
     "name": "stdout",
     "output_type": "stream",
     "text": [
      "Generated Song:\n",
      "\n",
      "\n",
      " never known gonna say to love you know never hurt you gonna say a a lie and feeling im im you to up never this other im you know never never never to a how im feeling gotta make you up never gonna you you up never gonna let you down never gonna run around and desert you never gonna make you up never gonna say goodbye never gonna tell a lie and hurt you never known each other for so gonna you gonna been aching but youre too shy to im you never gonna both know whats been going\n"
     ]
    },
    {
     "name": "stderr",
     "output_type": "stream",
     "text": [
      " 56%|█████████████████████████████████████████████▎                                   | 56/100 [00:01<00:00, 44.98it/s]"
     ]
    },
    {
     "name": "stdout",
     "output_type": "stream",
     "text": [
      "Generated Song:\n",
      "\n",
      "\n",
      " never known no strangers to love you know never rules you gonna say a a full commitments what im im you to up never this other im other guy i never never to a how im feeling gotta make you cry never gonna you you up never gonna let you down never gonna run around and desert you never gonna make you cry never gonna say goodbye never gonna tell a lie and hurt you never known each other for so gonna you gonna been aching but youre too shy to im you never we both know whats been going\n"
     ]
    },
    {
     "name": "stderr",
     "output_type": "stream",
     "text": [
      " 66%|█████████████████████████████████████████████████████▍                           | 66/100 [00:01<00:00, 45.11it/s]"
     ]
    },
    {
     "name": "stdout",
     "output_type": "stream",
     "text": [
      "Generated Song:\n",
      "\n",
      "\n",
      " never known no strangers to love you know the rules other gonna say a a full commitments what im im you to up never this from im other guy i never never to a how im feeling gotta make you cry never gonna you you up never gonna let you down never gonna run around and desert you never gonna make you cry never gonna say goodbye never gonna tell a lie and hurt you never known each other for so gonna you gonna been aching but youre too shy to im you never we both know whats been going\n"
     ]
    },
    {
     "name": "stderr",
     "output_type": "stream",
     "text": [
      " 77%|██████████████████████████████████████████████████████████████▎                  | 77/100 [00:01<00:00, 47.93it/s]"
     ]
    },
    {
     "name": "stdout",
     "output_type": "stream",
     "text": [
      "Generated Song:\n",
      "\n",
      "\n",
      " never are no strangers to love you know the rules other gonna say a a full commitments what im thinking you to up never this from any other guy i never i to a how im feeling gotta make you cry never gonna you you up never gonna let you down never gonna run around and desert you never gonna make you cry never gonna say goodbye never gonna tell a lie and hurt you never known each other for so gonna you gonna been aching but youre too shy to im you never we both know whats been going\n"
     ]
    },
    {
     "name": "stderr",
     "output_type": "stream",
     "text": [
      " 87%|██████████████████████████████████████████████████████████████████████▍          | 87/100 [00:01<00:00, 45.63it/s]"
     ]
    },
    {
     "name": "stdout",
     "output_type": "stream",
     "text": [
      "Generated Song:\n",
      "\n",
      "\n",
      " never are no strangers to love you know the rules other were say a a full commitments what im thinking you hurt i never this from any other guy i never i to a how im feeling gotta make you cry never gonna you you up never gonna let you down never gonna run around and desert you never gonna make you cry never gonna say goodbye never gonna tell a lie and hurt you never known each other for so gonna you gonna been aching but youre too shy to im you never we both know whats been going\n"
     ]
    },
    {
     "name": "stderr",
     "output_type": "stream",
     "text": [
      "100%|████████████████████████████████████████████████████████████████████████████████| 100/100 [00:02<00:00, 44.77it/s]"
     ]
    },
    {
     "name": "stdout",
     "output_type": "stream",
     "text": [
      "Generated Song:\n",
      "\n",
      "\n",
      " never are no strangers to love you know the rules other were say a a full commitments what im thinking you hurt i never this from any other guy i never i to a how im feeling gotta make you cry never gonna you you up never gonna let you down never gonna run around and desert you never gonna make you cry never gonna say goodbye never gonna tell a lie and hurt you never known each other for so gonna you gonna been aching but youre too shy to see you never we both know whats been going\n"
     ]
    },
    {
     "name": "stderr",
     "output_type": "stream",
     "text": [
      "\n"
     ]
    }
   ],
   "source": [
    "CONTEXT_SIZE=4\n",
    "model_4 = NGramLanguageModeler(len(vocab), EMBEDDING_DIM, CONTEXT_SIZE).to(device)\n",
    "optimizer = optim.SGD(model_4.parameters(), lr=0.01)\n",
    "scheduler = torch.optim.lr_scheduler.StepLR(optimizer, 1.0, gamma=0.1)\n",
    "my_loss=train(dataloader,model_4 )\n",
    "\n",
    "save_path = '4gram.pth'\n",
    "torch.save(model_4.state_dict(), save_path)\n",
    "\n",
    "my_loss_list.append(my_loss)"
   ]
  },
  {
   "cell_type": "code",
   "execution_count": 88,
   "id": "b984beb1-ce48-4ede-b8be-1a31efce6f12",
   "metadata": {},
   "outputs": [
    {
     "data": {
      "image/png": "[encoded data removed]",
      "text/plain": [
       "<Figure size 640x480 with 1 Axes>"
      ]
     },
     "metadata": {},
     "output_type": "display_data"
    }
   ],
   "source": [
    "X = model_4.embeddings.weight.cpu().detach().numpy()\n",
    "tsne = TSNE(n_components=2, random_state=42)\n",
    "X_2d = tsne.fit_transform(X)\n",
    "\n",
    "labels = []\n",
    "\n",
    "for j in range(len(X_2d)):\n",
    "    if j < 20:\n",
    "        plt.scatter(X_2d[j, 0], X_2d[j, 1], label=index_to_token[j])\n",
    "        labels.append(index_to_token[j])\n",
    "        # Add words as annotations\n",
    "        plt.annotate(index_to_token[j],\n",
    "                     (X_2d[j, 0], X_2d[j, 1]),\n",
    "                     textcoords=\"offset points\",\n",
    "                     xytext=(0, 10),\n",
    "                     ha='center')\n",
    "    else:\n",
    "        plt.scatter(X_2d[j, 0], X_2d[j, 1])\n",
    "\n",
    "plt.legend(labels, loc='upper left', bbox_to_anchor=(1, 1))\n",
    "plt.show()"
   ]
  },
  {
   "cell_type": "markdown",
   "id": "587a5bdf-2d7d-45b1-b238-827160073888",
   "metadata": {},
   "source": [
    "### Context 8"
   ]
  },
  {
   "cell_type": "code",
   "execution_count": 89,
   "id": "cecc9e72-8b2c-40f6-85ff-4065b1c9c283",
   "metadata": {},
   "outputs": [
    {
     "name": "stderr",
     "output_type": "stream",
     "text": [
      "  5%|████                                                                              | 5/100 [00:00<00:02, 45.78it/s]"
     ]
    },
    {
     "name": "stdout",
     "output_type": "stream",
     "text": [
      "Generated Song:\n",
      "\n",
      "\n",
      " down you never any you you commitments make guy to you you thinking goodbye you from you you goodbye make you to from each any to make just goodbye understand gonna to say to goodbye make commitments to make to each gonna understand around you never gonna you understand you never goodbye you never you never to gonna around you any you to goodbye to understand you to goodbye know you gonna never know you down you to goodbye to goodbye so to do any you you goodbye make long to commitments long to to you around to any long\n"
     ]
    },
    {
     "name": "stderr",
     "output_type": "stream",
     "text": [
      " 17%|█████████████▊                                                                   | 17/100 [00:00<00:01, 51.94it/s]"
     ]
    },
    {
     "name": "stdout",
     "output_type": "stream",
     "text": [
      "Generated Song:\n",
      "\n",
      "\n",
      " never down gonna you for love you never the you you you never never gonna i you never never make you gonna make you gonna gonna make you gonna i gonna never gonna gonna never gonna gonna never make you never gonna gonna make you never gonna gonna let you down never gonna let around down gonna gonna never gonna make you never never gonna let you down gonna tell a never never gonna you never you never you for never you you gonna you you you never gonna shy to gonna make gonna make gonna gonna never never going\n"
     ]
    },
    {
     "name": "stderr",
     "output_type": "stream",
     "text": [
      " 28%|██████████████████████▋                                                          | 28/100 [00:00<00:01, 45.36it/s]"
     ]
    },
    {
     "name": "stdout",
     "output_type": "stream",
     "text": [
      "Generated Song:\n",
      "\n",
      "\n",
      " never down gonna other for love you never the rules you you never play gonna i you shy im thinking you gonna i you gonna gonna tell you guy i gonna never gonna gonna never never gonna never make you never gonna gonna say you and gonna gonna let you down never gonna run around and gonna tell never gonna make you up never gonna say you down gonna tell a lie never hurt you never down never other for so you i gonna i you a never too shy to gonna make gonna make rules tell the been going\n"
     ]
    },
    {
     "name": "stderr",
     "output_type": "stream",
     "text": [
      " 39%|███████████████████████████████▌                                                 | 39/100 [00:00<00:01, 49.16it/s]"
     ]
    },
    {
     "name": "stdout",
     "output_type": "stream",
     "text": [
      "Generated Song:\n",
      "\n",
      "\n",
      " never down gonna other for love you never the rules you you never play gonna i you shy im thinking you gonna i you gonna im tell you guy i gonna never gonna gonna never never i never make you never gonna gonna say you and gonna gonna let you down never gonna run around and gonna tell never gonna make you up never gonna say you and gonna tell a lie never hurt you never down never other for so you i gonna i you a im too shy to gonna thinking tell make been tell the been going\n",
      "Generated Song:\n",
      "\n",
      "\n",
      " never down gonna other for love you never the rules you you never play gonna i you shy im thinking you gonna i so gonna im tell you guy i gonna never gonna gonna never never i never make you never gonna gonna say you and gonna gonna let you down never gonna run around and gonna tell never gonna make you up never gonna say you and gonna tell a lie never hurt you never down never other for so you i gonna to you a im too shy to gonna thinking tell give too tell the been going\n"
     ]
    },
    {
     "name": "stderr",
     "output_type": "stream",
     "text": [
      " 57%|██████████████████████████████████████████████▏                                  | 57/100 [00:01<00:00, 49.86it/s]"
     ]
    },
    {
     "name": "stdout",
     "output_type": "stream",
     "text": [
      "Generated Song:\n",
      "\n",
      "\n",
      " never down gonna other for love you never the rules you you never play gonna i you shy im thinking you gonna i so gonna im tell so guy i gonna never gonna gonna never never i never make you never gonna gonna say you and gonna gonna let you down never gonna run around and gonna tell never gonna make you up never gonna say you and gonna tell a lie never hurt you never down never other for so you i gonna to you a im too shy to gonna thinking tell give been tell the been going\n"
     ]
    },
    {
     "name": "stderr",
     "output_type": "stream",
     "text": [
      " 68%|███████████████████████████████████████████████████████                          | 68/100 [00:01<00:00, 47.39it/s]"
     ]
    },
    {
     "name": "stdout",
     "output_type": "stream",
     "text": [
      "Generated Song:\n",
      "\n",
      "\n",
      " never down gonna other for love you never the rules you you never play gonna i you shy im thinking you gonna i so gonna im tell so guy i gonna never gonna gonna never never i never make you never gonna gonna say you and gonna gonna let you down never gonna run around and gonna tell never gonna make you up never gonna say you and gonna tell a lie never hurt you never down never other for so you i gonna to you a im too shy to gonna thinking tell give been tell the been going\n"
     ]
    },
    {
     "name": "stderr",
     "output_type": "stream",
     "text": [
      " 79%|███████████████████████████████████████████████████████████████▉                 | 79/100 [00:01<00:00, 48.65it/s]"
     ]
    },
    {
     "name": "stdout",
     "output_type": "stream",
     "text": [
      "Generated Song:\n",
      "\n",
      "\n",
      " never down gonna other for love you never the rules you you never play gonna i you shy im thinking you gonna i so gonna im tell so guy i gonna never gonna gonna never never i never make you never gonna gonna say you and gonna gonna let you down never gonna run around and gonna tell never gonna make you up never gonna say you and gonna tell a lie never hurt you never down never other for so you i gonna to you a im too shy to gonna thinking tell give been tell the been going\n",
      "Generated Song:\n",
      "\n",
      "\n",
      " never down gonna other for love you never the rules you you never play gonna i you shy im thinking you gonna i so gonna im tell so guy i gonna never gonna gonna never never i never make you never gonna gonna say you and gonna gonna let you down never gonna run around and gonna tell never gonna make you up never gonna say you and gonna tell a lie never hurt you never down never other for so you i gonna to you a im too shy to gonna thinking tell give been give the been going\n"
     ]
    },
    {
     "name": "stderr",
     "output_type": "stream",
     "text": [
      "100%|████████████████████████████████████████████████████████████████████████████████| 100/100 [00:02<00:00, 48.06it/s]"
     ]
    },
    {
     "name": "stdout",
     "output_type": "stream",
     "text": [
      "Generated Song:\n",
      "\n",
      "\n",
      " never too gonna other for love you never the rules you you never play gonna i you shy im thinking you gonna i so you im tell so guy i gonna never gonna gonna never never i never make you never gonna gonna say you and gonna gonna let you down never gonna run around and gonna tell never gonna make you up never gonna say you and gonna tell a lie never hurt you never down never other for so you i gonna to you a im too shy to gonna thinking tell give been give the been going\n"
     ]
    },
    {
     "name": "stderr",
     "output_type": "stream",
     "text": [
      "\n"
     ]
    }
   ],
   "source": [
    "CONTEXT_SIZE=8\n",
    "model_8 = NGramLanguageModeler(len(vocab), EMBEDDING_DIM, CONTEXT_SIZE).to(device)\n",
    "optimizer = optim.SGD(model_8.parameters(), lr=0.01)\n",
    "\n",
    "scheduler = torch.optim.lr_scheduler.StepLR(optimizer, 1.0, gamma=0.1)\n",
    "my_loss=train(dataloader,model_8)\n",
    "\n",
    "save_path = '8gram.pth'\n",
    "torch.save(model_8.state_dict(), save_path)\n",
    "\n",
    "my_loss_list.append(my_loss)"
   ]
  },
  {
   "cell_type": "code",
   "execution_count": 90,
   "id": "c158bdca-c998-4aea-9291-fbabdd226406",
   "metadata": {},
   "outputs": [
    {
     "data": {
      "image/png": "[encoded data removed]",
      "text/plain": [
       "<Figure size 640x480 with 1 Axes>"
      ]
     },
     "metadata": {},
     "output_type": "display_data"
    }
   ],
   "source": [
    "X = model_8.embeddings.weight.cpu().detach().numpy()\n",
    "tsne = TSNE(n_components=2, random_state=42)\n",
    "X_2d = tsne.fit_transform(X)\n",
    "\n",
    "labels = []\n",
    "\n",
    "for j in range(len(X_2d)):\n",
    "    if j < 20:\n",
    "        plt.scatter(X_2d[j, 0], X_2d[j, 1], label=index_to_token[j])\n",
    "        labels.append(index_to_token[j])\n",
    "        # Add words as annotations\n",
    "        plt.annotate(index_to_token[j],\n",
    "                     (X_2d[j, 0], X_2d[j, 1]),\n",
    "                     textcoords=\"offset points\",\n",
    "                     xytext=(0, 10),\n",
    "                     ha='center')\n",
    "    else:\n",
    "        plt.scatter(X_2d[j, 0], X_2d[j, 1])\n",
    "\n",
    "plt.legend(labels, loc='upper left', bbox_to_anchor=(1, 1))\n",
    "plt.show()"
   ]
  },
  {
   "cell_type": "markdown",
   "id": "b3eed350-2e2f-4ece-ba7f-954dba5edb27",
   "metadata": {},
   "source": [
    "Ao considerar a perda plotada para cada modelo, uma tendência discernível emerge: um aumento no tamanho do contexto se correlaciona com uma redução na perda. Embora essa abordagem específica não inclua a validação do modelo ou a utilização de métricas de avaliação de PNL convencionais, a evidência visual comprova seu desempenho superior."
   ]
  },
  {
   "cell_type": "code",
   "execution_count": 91,
   "id": "084c5d4d-4348-4fb1-bf43-8961114396ab",
   "metadata": {},
   "outputs": [
    {
     "data": {
      "image/png": "[encoded data removed]",
      "text/plain": [
       "<Figure size 640x480 with 1 Axes>"
      ]
     },
     "metadata": {},
     "output_type": "display_data"
    }
   ],
   "source": [
    "for (my_loss, model_name)in zip(my_loss_list,[\"2-gram\",\"4-gram\",\"8-gram\"]):\n",
    "    plt.plot(my_loss,label=\"Cross-entropy Loss - {}\".format(model_name))\n",
    "    plt.legend()"
   ]
  },
  {
   "cell_type": "markdown",
   "id": "00baabaa-a185-4431-a6d9-d388004a3169",
   "metadata": {},
   "source": [
    "### Perplexidade\n",
    "A perplexidade é uma métrica usada para avaliar a eficácia de modelos de linguagem ou modelos probabilísticos. Ela indica o quão bem um modelo prevê uma amostra de dados ou a probabilidade de um evento não visto. A perplexidade é comumente usada em tarefas de processamento de linguagem natural, como tradução automática, reconhecimento de fala e geração de linguagem.\n",
    "\n",
    "A perplexidade é derivada do conceito de perda de entropia cruzada, que mede a dissimilaridade entre as probabilidades previstas e as reais.\n",
    "\n",
    "$$\\text{Cross-Entropy Loss} = -\\sum_{i=1}^{N} y_i \\ln(p_i)$$\n",
    "\n",
    "A perda de entropia cruzada é calculada ao se tomar a soma negativa dos produtos dos rótulos verdadeiros e do logaritmo das probabilidades previstas sobre as classes.\n",
    "\n",
    "Tomando o exponencial da perda média de entropia cruzada, obtemos o valor de perplexidade.\n",
    "\n",
    "$$\\text{Perplexity} = e^{\\frac{1}{N} \\text{Cross-Entropy Loss}}$$\n",
    "\n",
    "Um valor de perplexidade mais baixo indica que o modelo está mais confiante e preciso ao prever os dados. Por outro lado, uma perplexidade mais alta sugere que o modelo é menos certo e menos preciso em suas previsões.\n",
    "\n",
    "A perplexidade pode ser vista como uma estimativa do número médio de opções que o modelo tem para a próxima palavra ou evento em uma sequência. Uma perplexidade mais baixa significa que o modelo está mais certo sobre a próxima palavra, enquanto uma perplexidade mais alta indica que há mais escolhas possíveis."
   ]
  },
  {
   "cell_type": "code",
   "execution_count": 92,
   "id": "3cadd5f7-db91-4c55-a24d-279702542e24",
   "metadata": {},
   "outputs": [
    {
     "data": {
      "image/png": "[encoded data removed]",
      "text/plain": [
       "<Figure size 640x480 with 1 Axes>"
      ]
     },
     "metadata": {},
     "output_type": "display_data"
    }
   ],
   "source": [
    "for (my_loss, model_name)in zip(my_loss_list,[\"2-gram\",\"4-gram\",\"8-gram\"]):\n",
    "    # Calculate perplexity using the loss\n",
    "    perplexity = np.exp(my_loss)\n",
    "    plt.plot(perplexity,label=\"Perplexity - {}\".format(model_name))\n",
    "    plt.legend()"
   ]
  },
  {
   "cell_type": "code",
   "execution_count": null,
   "id": "7fa82b00-1c7e-4cad-9885-e28457e469d0",
   "metadata": {},
   "outputs": [],
   "source": []
  }
 ],
 "metadata": {
  "kernelspec": {
   "display_name": "Python 3 (ipykernel)",
   "language": "python",
   "name": "python3"
  },
  "language_info": {
   "codemirror_mode": {
    "name": "ipython",
    "version": 3
   },
   "file_extension": ".py",
   "mimetype": "text/x-python",
   "name": "python",
   "nbconvert_exporter": "python",
   "pygments_lexer": "ipython3",
   "version": "3.11.7"
  }
 },
 "nbformat": 4,
 "nbformat_minor": 5
}
